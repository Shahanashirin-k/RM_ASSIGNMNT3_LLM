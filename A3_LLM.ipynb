{
  "cells": [
    {
      "cell_type": "markdown",
      "metadata": {
        "id": "2aZo7xna9wO2"
      },
      "source": [
        "#**ASSIGNMENT -3: LLM(large Language Model)**"
      ]
    },
    {
      "cell_type": "markdown",
      "metadata": {
        "id": "s2MNvHcF-JPm"
      },
      "source": [
        "#**INTRODUCTION**\n",
        "\n",
        "One of the core tasks in NLP is sentiment analysis, which can be explained as determining the sentiment expressed in a piece of text. We explain the process and results for fine-tuning two pre-trained large language models, BERT and RoBERTa, on an Amazon dataset shoe review. The main task was the classification of reviews provided by customers into sentiment categories ranging from \"Very poor\" to \"Excellent.\"\n",
        "Dataset selection: For our work, we opted to use the Amazon Shoe Ratings dataset based on its diversity of nature, size, and relevance. The collection has thousands of customer reviews with a wide range of sentiment expressions. Each is attached to an emotion label at a scale from 0 to 4, where 0 is \"Very poor,\" and 4 is \"Excellent.\". The huge number of real-world textual content that lies in this dataset makes for a challenging context of testing and optimizing pre-trained LLMs. It further enables training models directly relevant to e-commerce platforms where business intelligence is key and depends upon the analysis of users' sentiments.\n",
        "\n"
      ]
    },
    {
      "cell_type": "markdown",
      "metadata": {
        "id": "BmYglFEIdxHG"
      },
      "source": [
        "**BEST MODEL- RoBERTAa**"
      ]
    },
    {
      "cell_type": "markdown",
      "metadata": {
        "id": "XW-2cDahzkY5"
      },
      "source": [
        "# Load  the data"
      ]
    },
    {
      "cell_type": "code",
      "execution_count": 2,
      "metadata": {
        "id": "ML1YAuBKDaeP"
      },
      "outputs": [],
      "source": [
        "# import clear out to clear output during library installation\n",
        "from IPython.display import clear_output"
      ]
    },
    {
      "cell_type": "code",
      "execution_count": 3,
      "metadata": {
        "id": "wae_kuthDoS3"
      },
      "outputs": [],
      "source": [
        "# install transformers and keras tuner\n",
        "!pip install transformers tensorflow\n",
        "!pip install keras-tuner\n",
        "clear_output()"
      ]
    },
    {
      "cell_type": "code",
      "execution_count": 4,
      "metadata": {
        "colab": {
          "base_uri": "https://localhost:8080/"
        },
        "id": "Rsq1w0UiDqgr",
        "outputId": "296702cb-db39-4ef3-bd01-cadca7167283"
      },
      "outputs": [
        {
          "output_type": "stream",
          "name": "stderr",
          "text": [
            "<ipython-input-4-272cefacf9ee>:6: DeprecationWarning: `import kerastuner` is deprecated, please use `import keras_tuner`.\n",
            "  from kerastuner.tuners import RandomSearch\n"
          ]
        }
      ],
      "source": [
        "# import libraries\n",
        "import pandas as pd\n",
        "import numpy as np\n",
        "import transformers\n",
        "import tensorflow as tf\n",
        "from kerastuner.tuners import RandomSearch\n",
        "import ipywidgets as widgets\n",
        "from IPython.display import display, clear_output\n",
        "import matplotlib.pyplot as plt\n",
        "import tensorflow_datasets as tfds\n",
        "from transformers import BertTokenizer, TFBertForSequenceClassification\n",
        "from sklearn.model_selection import train_test_split\n",
        "\n",
        "# pandas settings to view all rows and columns\n",
        "pd.set_option('display.max_rows', 500)\n",
        "pd.set_option('display.max_columns', 500)\n",
        "pd.set_option('display.width', 1000)\n"
      ]
    },
    {
      "cell_type": "code",
      "execution_count": 5,
      "metadata": {
        "id": "c67RIkqMEHdr"
      },
      "outputs": [],
      "source": [
        "import pandas as pd\n",
        "from sklearn.model_selection import train_test_split\n",
        "\n",
        "# Define data paths (similar to splits)\n",
        "train_file = 'data/train-00000-of-00001-41f4169a6c299840.parquet'\n",
        "test_file = 'data/test-00000-of-00001-c55e18d0e910b1e8.parquet'\n",
        "\n",
        "# Load data using Pandas (similar to tfds.load)\n",
        "train_df = pd.read_parquet('hf://datasets/amissier/amazon-shoe-reviews/' + train_file)\n",
        "test_df = pd.read_parquet('hf://datasets/amissier/amazon-shoe-reviews/' + test_file)\n",
        "\n",
        "# Split training data into train and validation sets\n",
        "train_df, val_df = train_test_split(train_df, test_size=0.1, random_state=123)"
      ]
    },
    {
      "cell_type": "code",
      "execution_count": 6,
      "metadata": {
        "id": "E6FgzxjgEUWW",
        "colab": {
          "base_uri": "https://localhost:8080/",
          "height": 363
        },
        "outputId": "966c2831-6a4c-42ca-ede4-6b444196a635"
      },
      "outputs": [
        {
          "output_type": "execute_result",
          "data": {
            "text/plain": [
              "     labels                                               text\n",
              "236       2                                  Not for wide feet\n",
              "283       4  Gorgeous shoes fit wonderfully! I do not have ...\n",
              "26        3  These shoes feel really good in my feet. The o...\n",
              "232       3   i love it, its so cute, gives you an Indian feel\n",
              "121       4  ASICS makes an excellent shoe for walking, jus...\n",
              "120       4  I got these for my husband and he loves them. ...\n",
              "209       1              they didn't fit well. Love the shoes.\n",
              "5         4  I came home form a week in the boundary waters...\n",
              "42        4                               I LOVE REEF flops!!!\n",
              "142       2  These shoes are cute and I felt like they fit ..."
            ],
            "text/html": [
              "\n",
              "  <div id=\"df-e6c8dfbb-e719-4b22-95c8-31781fd5de87\" class=\"colab-df-container\">\n",
              "    <div>\n",
              "<style scoped>\n",
              "    .dataframe tbody tr th:only-of-type {\n",
              "        vertical-align: middle;\n",
              "    }\n",
              "\n",
              "    .dataframe tbody tr th {\n",
              "        vertical-align: top;\n",
              "    }\n",
              "\n",
              "    .dataframe thead th {\n",
              "        text-align: right;\n",
              "    }\n",
              "</style>\n",
              "<table border=\"1\" class=\"dataframe\">\n",
              "  <thead>\n",
              "    <tr style=\"text-align: right;\">\n",
              "      <th></th>\n",
              "      <th>labels</th>\n",
              "      <th>text</th>\n",
              "    </tr>\n",
              "  </thead>\n",
              "  <tbody>\n",
              "    <tr>\n",
              "      <th>236</th>\n",
              "      <td>2</td>\n",
              "      <td>Not for wide feet</td>\n",
              "    </tr>\n",
              "    <tr>\n",
              "      <th>283</th>\n",
              "      <td>4</td>\n",
              "      <td>Gorgeous shoes fit wonderfully! I do not have ...</td>\n",
              "    </tr>\n",
              "    <tr>\n",
              "      <th>26</th>\n",
              "      <td>3</td>\n",
              "      <td>These shoes feel really good in my feet. The o...</td>\n",
              "    </tr>\n",
              "    <tr>\n",
              "      <th>232</th>\n",
              "      <td>3</td>\n",
              "      <td>i love it, its so cute, gives you an Indian feel</td>\n",
              "    </tr>\n",
              "    <tr>\n",
              "      <th>121</th>\n",
              "      <td>4</td>\n",
              "      <td>ASICS makes an excellent shoe for walking, jus...</td>\n",
              "    </tr>\n",
              "    <tr>\n",
              "      <th>120</th>\n",
              "      <td>4</td>\n",
              "      <td>I got these for my husband and he loves them. ...</td>\n",
              "    </tr>\n",
              "    <tr>\n",
              "      <th>209</th>\n",
              "      <td>1</td>\n",
              "      <td>they didn't fit well. Love the shoes.</td>\n",
              "    </tr>\n",
              "    <tr>\n",
              "      <th>5</th>\n",
              "      <td>4</td>\n",
              "      <td>I came home form a week in the boundary waters...</td>\n",
              "    </tr>\n",
              "    <tr>\n",
              "      <th>42</th>\n",
              "      <td>4</td>\n",
              "      <td>I LOVE REEF flops!!!</td>\n",
              "    </tr>\n",
              "    <tr>\n",
              "      <th>142</th>\n",
              "      <td>2</td>\n",
              "      <td>These shoes are cute and I felt like they fit ...</td>\n",
              "    </tr>\n",
              "  </tbody>\n",
              "</table>\n",
              "</div>\n",
              "    <div class=\"colab-df-buttons\">\n",
              "\n",
              "  <div class=\"colab-df-container\">\n",
              "    <button class=\"colab-df-convert\" onclick=\"convertToInteractive('df-e6c8dfbb-e719-4b22-95c8-31781fd5de87')\"\n",
              "            title=\"Convert this dataframe to an interactive table.\"\n",
              "            style=\"display:none;\">\n",
              "\n",
              "  <svg xmlns=\"http://www.w3.org/2000/svg\" height=\"24px\" viewBox=\"0 -960 960 960\">\n",
              "    <path d=\"M120-120v-720h720v720H120Zm60-500h600v-160H180v160Zm220 220h160v-160H400v160Zm0 220h160v-160H400v160ZM180-400h160v-160H180v160Zm440 0h160v-160H620v160ZM180-180h160v-160H180v160Zm440 0h160v-160H620v160Z\"/>\n",
              "  </svg>\n",
              "    </button>\n",
              "\n",
              "  <style>\n",
              "    .colab-df-container {\n",
              "      display:flex;\n",
              "      gap: 12px;\n",
              "    }\n",
              "\n",
              "    .colab-df-convert {\n",
              "      background-color: #E8F0FE;\n",
              "      border: none;\n",
              "      border-radius: 50%;\n",
              "      cursor: pointer;\n",
              "      display: none;\n",
              "      fill: #1967D2;\n",
              "      height: 32px;\n",
              "      padding: 0 0 0 0;\n",
              "      width: 32px;\n",
              "    }\n",
              "\n",
              "    .colab-df-convert:hover {\n",
              "      background-color: #E2EBFA;\n",
              "      box-shadow: 0px 1px 2px rgba(60, 64, 67, 0.3), 0px 1px 3px 1px rgba(60, 64, 67, 0.15);\n",
              "      fill: #174EA6;\n",
              "    }\n",
              "\n",
              "    .colab-df-buttons div {\n",
              "      margin-bottom: 4px;\n",
              "    }\n",
              "\n",
              "    [theme=dark] .colab-df-convert {\n",
              "      background-color: #3B4455;\n",
              "      fill: #D2E3FC;\n",
              "    }\n",
              "\n",
              "    [theme=dark] .colab-df-convert:hover {\n",
              "      background-color: #434B5C;\n",
              "      box-shadow: 0px 1px 3px 1px rgba(0, 0, 0, 0.15);\n",
              "      filter: drop-shadow(0px 1px 2px rgba(0, 0, 0, 0.3));\n",
              "      fill: #FFFFFF;\n",
              "    }\n",
              "  </style>\n",
              "\n",
              "    <script>\n",
              "      const buttonEl =\n",
              "        document.querySelector('#df-e6c8dfbb-e719-4b22-95c8-31781fd5de87 button.colab-df-convert');\n",
              "      buttonEl.style.display =\n",
              "        google.colab.kernel.accessAllowed ? 'block' : 'none';\n",
              "\n",
              "      async function convertToInteractive(key) {\n",
              "        const element = document.querySelector('#df-e6c8dfbb-e719-4b22-95c8-31781fd5de87');\n",
              "        const dataTable =\n",
              "          await google.colab.kernel.invokeFunction('convertToInteractive',\n",
              "                                                    [key], {});\n",
              "        if (!dataTable) return;\n",
              "\n",
              "        const docLinkHtml = 'Like what you see? Visit the ' +\n",
              "          '<a target=\"_blank\" href=https://colab.research.google.com/notebooks/data_table.ipynb>data table notebook</a>'\n",
              "          + ' to learn more about interactive tables.';\n",
              "        element.innerHTML = '';\n",
              "        dataTable['output_type'] = 'display_data';\n",
              "        await google.colab.output.renderOutput(dataTable, element);\n",
              "        const docLink = document.createElement('div');\n",
              "        docLink.innerHTML = docLinkHtml;\n",
              "        element.appendChild(docLink);\n",
              "      }\n",
              "    </script>\n",
              "  </div>\n",
              "\n",
              "\n",
              "<div id=\"df-f94ad589-1c2c-43cd-b3da-16516df79dad\">\n",
              "  <button class=\"colab-df-quickchart\" onclick=\"quickchart('df-f94ad589-1c2c-43cd-b3da-16516df79dad')\"\n",
              "            title=\"Suggest charts\"\n",
              "            style=\"display:none;\">\n",
              "\n",
              "<svg xmlns=\"http://www.w3.org/2000/svg\" height=\"24px\"viewBox=\"0 0 24 24\"\n",
              "     width=\"24px\">\n",
              "    <g>\n",
              "        <path d=\"M19 3H5c-1.1 0-2 .9-2 2v14c0 1.1.9 2 2 2h14c1.1 0 2-.9 2-2V5c0-1.1-.9-2-2-2zM9 17H7v-7h2v7zm4 0h-2V7h2v10zm4 0h-2v-4h2v4z\"/>\n",
              "    </g>\n",
              "</svg>\n",
              "  </button>\n",
              "\n",
              "<style>\n",
              "  .colab-df-quickchart {\n",
              "      --bg-color: #E8F0FE;\n",
              "      --fill-color: #1967D2;\n",
              "      --hover-bg-color: #E2EBFA;\n",
              "      --hover-fill-color: #174EA6;\n",
              "      --disabled-fill-color: #AAA;\n",
              "      --disabled-bg-color: #DDD;\n",
              "  }\n",
              "\n",
              "  [theme=dark] .colab-df-quickchart {\n",
              "      --bg-color: #3B4455;\n",
              "      --fill-color: #D2E3FC;\n",
              "      --hover-bg-color: #434B5C;\n",
              "      --hover-fill-color: #FFFFFF;\n",
              "      --disabled-bg-color: #3B4455;\n",
              "      --disabled-fill-color: #666;\n",
              "  }\n",
              "\n",
              "  .colab-df-quickchart {\n",
              "    background-color: var(--bg-color);\n",
              "    border: none;\n",
              "    border-radius: 50%;\n",
              "    cursor: pointer;\n",
              "    display: none;\n",
              "    fill: var(--fill-color);\n",
              "    height: 32px;\n",
              "    padding: 0;\n",
              "    width: 32px;\n",
              "  }\n",
              "\n",
              "  .colab-df-quickchart:hover {\n",
              "    background-color: var(--hover-bg-color);\n",
              "    box-shadow: 0 1px 2px rgba(60, 64, 67, 0.3), 0 1px 3px 1px rgba(60, 64, 67, 0.15);\n",
              "    fill: var(--button-hover-fill-color);\n",
              "  }\n",
              "\n",
              "  .colab-df-quickchart-complete:disabled,\n",
              "  .colab-df-quickchart-complete:disabled:hover {\n",
              "    background-color: var(--disabled-bg-color);\n",
              "    fill: var(--disabled-fill-color);\n",
              "    box-shadow: none;\n",
              "  }\n",
              "\n",
              "  .colab-df-spinner {\n",
              "    border: 2px solid var(--fill-color);\n",
              "    border-color: transparent;\n",
              "    border-bottom-color: var(--fill-color);\n",
              "    animation:\n",
              "      spin 1s steps(1) infinite;\n",
              "  }\n",
              "\n",
              "  @keyframes spin {\n",
              "    0% {\n",
              "      border-color: transparent;\n",
              "      border-bottom-color: var(--fill-color);\n",
              "      border-left-color: var(--fill-color);\n",
              "    }\n",
              "    20% {\n",
              "      border-color: transparent;\n",
              "      border-left-color: var(--fill-color);\n",
              "      border-top-color: var(--fill-color);\n",
              "    }\n",
              "    30% {\n",
              "      border-color: transparent;\n",
              "      border-left-color: var(--fill-color);\n",
              "      border-top-color: var(--fill-color);\n",
              "      border-right-color: var(--fill-color);\n",
              "    }\n",
              "    40% {\n",
              "      border-color: transparent;\n",
              "      border-right-color: var(--fill-color);\n",
              "      border-top-color: var(--fill-color);\n",
              "    }\n",
              "    60% {\n",
              "      border-color: transparent;\n",
              "      border-right-color: var(--fill-color);\n",
              "    }\n",
              "    80% {\n",
              "      border-color: transparent;\n",
              "      border-right-color: var(--fill-color);\n",
              "      border-bottom-color: var(--fill-color);\n",
              "    }\n",
              "    90% {\n",
              "      border-color: transparent;\n",
              "      border-bottom-color: var(--fill-color);\n",
              "    }\n",
              "  }\n",
              "</style>\n",
              "\n",
              "  <script>\n",
              "    async function quickchart(key) {\n",
              "      const quickchartButtonEl =\n",
              "        document.querySelector('#' + key + ' button');\n",
              "      quickchartButtonEl.disabled = true;  // To prevent multiple clicks.\n",
              "      quickchartButtonEl.classList.add('colab-df-spinner');\n",
              "      try {\n",
              "        const charts = await google.colab.kernel.invokeFunction(\n",
              "            'suggestCharts', [key], {});\n",
              "      } catch (error) {\n",
              "        console.error('Error during call to suggestCharts:', error);\n",
              "      }\n",
              "      quickchartButtonEl.classList.remove('colab-df-spinner');\n",
              "      quickchartButtonEl.classList.add('colab-df-quickchart-complete');\n",
              "    }\n",
              "    (() => {\n",
              "      let quickchartButtonEl =\n",
              "        document.querySelector('#df-f94ad589-1c2c-43cd-b3da-16516df79dad button');\n",
              "      quickchartButtonEl.style.display =\n",
              "        google.colab.kernel.accessAllowed ? 'block' : 'none';\n",
              "    })();\n",
              "  </script>\n",
              "</div>\n",
              "\n",
              "    </div>\n",
              "  </div>\n"
            ],
            "application/vnd.google.colaboratory.intrinsic+json": {
              "type": "dataframe",
              "variable_name": "train_df",
              "summary": "{\n  \"name\": \"train_df\",\n  \"rows\": 405,\n  \"fields\": [\n    {\n      \"column\": \"labels\",\n      \"properties\": {\n        \"dtype\": \"number\",\n        \"std\": 1,\n        \"min\": 0,\n        \"max\": 4,\n        \"num_unique_values\": 5,\n        \"samples\": [\n          4,\n          0,\n          3\n        ],\n        \"semantic_type\": \"\",\n        \"description\": \"\"\n      }\n    },\n    {\n      \"column\": \"text\",\n      \"properties\": {\n        \"dtype\": \"string\",\n        \"num_unique_values\": 399,\n        \"samples\": [\n          \"I purchased this shoe to replace an old Naturalizer slip on that i loved but had finally worn out. I ordered the same size (wide) as my old shoe, but this Naturalizer shoe was both shorter and narrower and too tight for me. I was also surprised at the lack of arch support in this shoe. It seemed like it would be a comfortable shoe for someone with smaller feet and who doesn't need much arch support.\",\n          \"Had to return for next size  Next size was comfortable\",\n          \"Same model that I wore out over several years playing golf, so even my 6.5 \\u00e9ee feet will be snug for a while, the shoes will expand enough to be just right within a month or two. Ps:  not expanding. I think they may have been marked wrong. I actually bought a pair from the manufacture as we'll and experiencing same condition. My 9 inch foot compares to a size 6 on international chart but I may need to move up to an 8 to get a comfortable fit.  I need to visit a store that has small sizes.\"\n        ],\n        \"semantic_type\": \"\",\n        \"description\": \"\"\n      }\n    }\n  ]\n}"
            }
          },
          "metadata": {},
          "execution_count": 6
        }
      ],
      "source": [
        "# view sample of train_df\n",
        "train_df.head(10)"
      ]
    },
    {
      "cell_type": "code",
      "execution_count": 7,
      "metadata": {
        "id": "s3Fcj0LkEm7b",
        "colab": {
          "base_uri": "https://localhost:8080/"
        },
        "outputId": "fbc72dc9-be2e-4699-89ab-6c42eabaa925"
      },
      "outputs": [
        {
          "output_type": "stream",
          "name": "stdout",
          "text": [
            "<class 'pandas.core.frame.DataFrame'>\n",
            "Index: 405 entries, 236 to 365\n",
            "Data columns (total 2 columns):\n",
            " #   Column  Non-Null Count  Dtype \n",
            "---  ------  --------------  ----- \n",
            " 0   labels  405 non-null    int64 \n",
            " 1   text    405 non-null    object\n",
            "dtypes: int64(1), object(1)\n",
            "memory usage: 9.5+ KB\n"
          ]
        }
      ],
      "source": [
        "# check for null data\n",
        "train_df.info()"
      ]
    },
    {
      "cell_type": "code",
      "execution_count": 8,
      "metadata": {
        "id": "gj1YetcZz7Ec",
        "colab": {
          "base_uri": "https://localhost:8080/"
        },
        "outputId": "349a60de-c834-48ba-ff8f-24723982c7c9"
      },
      "outputs": [
        {
          "output_type": "stream",
          "name": "stdout",
          "text": [
            "<class 'pandas.core.frame.DataFrame'>\n",
            "Index: 45 entries, 49 to 295\n",
            "Data columns (total 2 columns):\n",
            " #   Column  Non-Null Count  Dtype \n",
            "---  ------  --------------  ----- \n",
            " 0   labels  45 non-null     int64 \n",
            " 1   text    45 non-null     object\n",
            "dtypes: int64(1), object(1)\n",
            "memory usage: 1.1+ KB\n"
          ]
        }
      ],
      "source": [
        "val_df.info()"
      ]
    },
    {
      "cell_type": "markdown",
      "metadata": {
        "id": "AK0qvG9HnLL2"
      },
      "source": [
        "#EDA"
      ]
    },
    {
      "cell_type": "markdown",
      "metadata": {
        "id": "hwIo1AgQdveL"
      },
      "source": [
        "Before fine-tuning the models, an Exploratory Data Analysis is doing to understand some characteristics of the dataset. This included checking the distribution of labels and their sentiment labels and the length of the reviews.\n",
        "\n",
        "*   Label Distribution: The dataset is well balanced in terms of distribution of labels. As such, we were assured that our model would not be biased to any class of sentiment while training.\n",
        "\n",
        "*   Length of Review: The lengths of the reviews varied to a great extent, requiring proper care during tokenization to deal with the variation and extract meaningful input sequences.\n",
        "\n",
        "These insights guided the selection of parameters to the model, such as the maximum sequence length for tokenization and the need for handling class imbalances.\n"
      ]
    },
    {
      "cell_type": "code",
      "execution_count": 9,
      "metadata": {
        "id": "BjyO7-fFEsEz"
      },
      "outputs": [],
      "source": [
        "# take acopy of train_df for eda\n",
        "df = train_df.copy()\n",
        "# count the label class into dictionary\n",
        "label_count = df['labels'].value_counts().to_dict()\n"
      ]
    },
    {
      "cell_type": "code",
      "execution_count": 10,
      "metadata": {
        "id": "AfmX6Lymm4sj",
        "colab": {
          "base_uri": "https://localhost:8080/"
        },
        "outputId": "e962d778-f26d-459e-c637-d3f3477159c3"
      },
      "outputs": [
        {
          "output_type": "stream",
          "name": "stdout",
          "text": [
            "First few rows of the dataset:\n",
            "     labels                                               text\n",
            "236       2                                  Not for wide feet\n",
            "283       4  Gorgeous shoes fit wonderfully! I do not have ...\n",
            "26        3  These shoes feel really good in my feet. The o...\n",
            "232       3   i love it, its so cute, gives you an Indian feel\n",
            "121       4  ASICS makes an excellent shoe for walking, jus...\n"
          ]
        }
      ],
      "source": [
        "# Display the first few rows of the dataset\n",
        "print(\"First few rows of the dataset:\")\n",
        "print(df.head())"
      ]
    },
    {
      "cell_type": "code",
      "execution_count": 11,
      "metadata": {
        "colab": {
          "base_uri": "https://localhost:8080/"
        },
        "id": "c1F-9ZHZnCc5",
        "outputId": "1154146b-e46e-484a-9885-10eb89135b7f"
      },
      "outputs": [
        {
          "output_type": "stream",
          "name": "stdout",
          "text": [
            "\n",
            "Data Types and Missing Values:\n",
            "<class 'pandas.core.frame.DataFrame'>\n",
            "Index: 405 entries, 236 to 365\n",
            "Data columns (total 2 columns):\n",
            " #   Column  Non-Null Count  Dtype \n",
            "---  ------  --------------  ----- \n",
            " 0   labels  405 non-null    int64 \n",
            " 1   text    405 non-null    object\n",
            "dtypes: int64(1), object(1)\n",
            "memory usage: 9.5+ KB\n",
            "None\n"
          ]
        }
      ],
      "source": [
        "# Check the data types and for missing values\n",
        "print(\"\\nData Types and Missing Values:\")\n",
        "print(df.info())\n"
      ]
    },
    {
      "cell_type": "code",
      "execution_count": 12,
      "metadata": {
        "colab": {
          "base_uri": "https://localhost:8080/"
        },
        "id": "UXvWL2T8nFfX",
        "outputId": "72b0d592-b0c7-45df-e26a-66ee078ffa33"
      },
      "outputs": [
        {
          "output_type": "stream",
          "name": "stdout",
          "text": [
            "\n",
            "Label Distribution:\n",
            "labels\n",
            "4    239\n",
            "3     84\n",
            "2     37\n",
            "1     26\n",
            "0     19\n",
            "Name: count, dtype: int64\n"
          ]
        }
      ],
      "source": [
        "# Display the distribution of labels\n",
        "print(\"\\nLabel Distribution:\")\n",
        "print(df['labels'].value_counts())"
      ]
    },
    {
      "cell_type": "markdown",
      "metadata": {
        "id": "2XjuiqRqsb5O"
      },
      "source": [
        "### Plotting the distribution based on labels"
      ]
    },
    {
      "cell_type": "code",
      "execution_count": 13,
      "metadata": {
        "colab": {
          "base_uri": "https://localhost:8080/",
          "height": 564
        },
        "id": "qGIDLZpvJ-MV",
        "outputId": "de0c255e-130c-4d69-ad84-78314b419eb2"
      },
      "outputs": [
        {
          "output_type": "display_data",
          "data": {
            "text/plain": [
              "<Figure size 500x600 with 1 Axes>"
            ],
            "image/png": "[encoded data removed]"
          },
          "metadata": {}
        }
      ],
      "source": [
        "# Plot the distribution of labels\n",
        "label_count = df['labels'].value_counts().sort_index()\n",
        "plt.style.use(\"dark_background\")\n",
        "plt.figure(figsize=(5, 6))\n",
        "plt.bar(label_count.index, label_count.values)\n",
        "plt.xlabel('Labels')\n",
        "plt.ylabel('Number of Reviews')\n",
        "plt.title('Distribution of Labels (0-4)')\n",
        "plt.xticks(range(5))  # Assuming labels are from 0 to 4\n",
        "plt.show()\n"
      ]
    },
    {
      "cell_type": "code",
      "execution_count": 14,
      "metadata": {
        "colab": {
          "base_uri": "https://localhost:8080/",
          "height": 750
        },
        "id": "cErpn_TdnqUL",
        "outputId": "3623174d-1fd1-4de1-ab6c-b1cc7aa3b65b"
      },
      "outputs": [
        {
          "output_type": "stream",
          "name": "stdout",
          "text": [
            "\n",
            "Review Length Statistics:\n",
            "count    405.000000\n",
            "mean      28.575309\n",
            "std       34.524312\n",
            "min        1.000000\n",
            "25%        6.000000\n",
            "50%       16.000000\n",
            "75%       38.000000\n",
            "max      237.000000\n",
            "Name: review_length, dtype: float64\n"
          ]
        },
        {
          "output_type": "display_data",
          "data": {
            "text/plain": [
              "<Figure size 1000x600 with 1 Axes>"
            ],
            "image/png": "[encoded data removed]"
          },
          "metadata": {}
        }
      ],
      "source": [
        "# Calculate the length of each review\n",
        "df['review_length'] = df['text'].apply(lambda x: len(x.split()))\n",
        "\n",
        "# Display basic statistics about review lengths\n",
        "print(\"\\nReview Length Statistics:\")\n",
        "print(df['review_length'].describe())\n",
        "\n",
        "# Plot the distribution of review lengths\n",
        "plt.figure(figsize=(10, 6))\n",
        "plt.hist(df['review_length'], bins=50, color='purple', alpha=0.7)\n",
        "plt.xlabel('Number of Words in Review')\n",
        "plt.ylabel('Number of Reviews')\n",
        "plt.title('Distribution of Review Lengths')\n",
        "plt.show()\n"
      ]
    },
    {
      "cell_type": "markdown",
      "metadata": {
        "id": "NYbY1MqAskqH"
      },
      "source": [
        "### Sentiment Analysis"
      ]
    },
    {
      "cell_type": "code",
      "execution_count": 15,
      "metadata": {
        "colab": {
          "base_uri": "https://localhost:8080/"
        },
        "id": "v3AwyqoZpWFJ",
        "outputId": "67a3a7a4-b95d-45a2-8e35-8038ad52ae96"
      },
      "outputs": [
        {
          "output_type": "stream",
          "name": "stdout",
          "text": [
            "Mapped sentiment labels:\n",
            "     labels  sentiment\n",
            "236       2    Average\n",
            "283       4  Excellent\n",
            "26        3       Good\n",
            "232       3       Good\n",
            "121       4  Excellent\n"
          ]
        }
      ],
      "source": [
        "# Define the mapping function\n",
        "def map_labels(label):\n",
        "    if label == 0:\n",
        "        return 'Very poor'\n",
        "    elif label == 1:\n",
        "        return 'Poor'\n",
        "    elif label == 2:\n",
        "        return 'Average'\n",
        "    elif label == 3:\n",
        "        return 'Good'\n",
        "    elif label == 4:\n",
        "        return 'Excellent'\n",
        "\n",
        "# Apply the mapping to the dataframe\n",
        "df['sentiment'] = df['labels'].apply(map_labels)\n",
        "\n",
        "# Display the first few rows to check the mapping\n",
        "print(\"Mapped sentiment labels:\")\n",
        "print(df[['labels', 'sentiment']].head())\n"
      ]
    },
    {
      "cell_type": "code",
      "execution_count": 16,
      "metadata": {
        "colab": {
          "base_uri": "https://localhost:8080/",
          "height": 580
        },
        "id": "IDAlTj6lrQg3",
        "outputId": "d10b6653-2e7e-4262-d46a-938f3ffeab31"
      },
      "outputs": [
        {
          "output_type": "display_data",
          "data": {
            "text/plain": [
              "<Figure size 800x600 with 1 Axes>"
            ],
            "image/png": "[encoded data removed]"
          },
          "metadata": {}
        }
      ],
      "source": [
        "# Count the number of reviews in each sentiment category\n",
        "sentiment_count = df['sentiment'].value_counts().sort_index()\n",
        "\n",
        "# Plot the distribution of sentiment categories\n",
        "plt.figure(figsize=(8, 6))\n",
        "plt.bar(sentiment_count.index, sentiment_count.values, color='lightgreen')\n",
        "plt.xlabel('\\n Sentiment')\n",
        "plt.ylabel('Number of Reviews')\n",
        "plt.title('Distribution of Sentiment Categories')\n",
        "plt.show()\n"
      ]
    },
    {
      "cell_type": "code",
      "execution_count": 17,
      "metadata": {
        "colab": {
          "base_uri": "https://localhost:8080/"
        },
        "id": "ESPdGt2Grn51",
        "outputId": "20a8e4c0-39ef-4e97-b0a4-898246c65a18"
      },
      "outputs": [
        {
          "output_type": "stream",
          "name": "stdout",
          "text": [
            "\n",
            "Sample reviews for sentiment 'Average':\n",
            "Review 1: I like the style of the shoes. There is zero support though. Keds aren't known as an orthotic shoe so this is not unexpected. The ortholite footbed does almost nothing. The sole is thin so you can feel the unevenness of the ground/ pavement when you are out walking. For this reason, I would never recommend these shoes for walking. To run around to stores or anywhere indoors, they are fine as long as you add your own support inserts. I could not wear them for any extended period of time without my own insert.\n",
            "\n",
            "Review 2: great shoe but much too heavy for me.\n",
            "\n",
            "\n",
            "Sample reviews for sentiment 'Excellent':\n",
            "Review 1: These are super cute!  I wish they had been around when I got married!!  I was worried that it would be hard to see where I was going with the lettering and designs in the way, but it was just fine.  I could see without a problem.  I can't wait to give these to my brother and his soon to be wife at their wedding!  I was able to purchase these at a discount in exchange for my honest review.\n",
            "\n",
            "Review 2: These shoes feel great on my flat feet.  I have a wide forefoot and narrow heel and this shoe works for that too.  I have had sciatic problems and an injured left knee, and I can wear this shoe all day long with comfort.  I spent 3 days walking for hours at a golf tournament and felt I could not have done it without these shoes.  It is the most expensive shoe I have ever bought and it was worth every penny to me.\n",
            "\n",
            "\n",
            "Sample reviews for sentiment 'Good':\n",
            "Review 1: My husband is a size 11.5 but after reading the reviews - it says to order 2 sizes up or they become uncomfortable on the heel part. I ordered 13 and were too big! No problem with return. The sz 12 fit better.\n",
            "\n",
            "Review 2: I like these, but not as much as the MT610V2s that these were meant to replace. They are great walking and light hiking shoes. They are sub-par running shoes compared to the MT610V2 versions.\n",
            "\n",
            "\n",
            "Sample reviews for sentiment 'Poor':\n",
            "Review 1: This pair of Sketchers is now the second pair I've bought, where the left shoe does not fit as well as the right.  The left is slightly loose.  I have the first pair of Go Walk Sketchers I bought, and they fit fine, so I have to assume the fault does not lie with my left foot.  Disappointed, given the price.\n",
            "\n",
            "Review 2: Attractive style although a little wide.\n",
            "\n",
            "\n",
            "Sample reviews for sentiment 'Very poor':\n",
            "Review 1: Cheep, made in China although they advertised as made in America, and they were a size too big. They are going back.\n",
            "\n",
            "Review 2: My son played in one football game with these shoes and they began to fall apart.  The soles/cleats started separating from the shoe in the heel area during the first game.  The trainers had to tape the soles/cleats to help prevent additional separation and injury prior to the second game.  If cleats separate during play it could lead to a serious injury.  Stay away from these shoes.\n",
            "\n"
          ]
        }
      ],
      "source": [
        "# Function to display sample reviews for each sentiment category\n",
        "def display_sample_reviews_by_sentiment(sentiment):\n",
        "    print(f\"\\nSample reviews for sentiment '{sentiment}':\")\n",
        "    sample_reviews = df[df['sentiment'] == sentiment]['text'].sample(2, random_state=123)\n",
        "    for i, review in enumerate(sample_reviews, 1):\n",
        "        print(f\"Review {i}: {review}\\n\")\n",
        "\n",
        "# Display sample reviews for each sentiment category\n",
        "for sentiment in sentiment_count.index:\n",
        "    display_sample_reviews_by_sentiment(sentiment)"
      ]
    },
    {
      "cell_type": "markdown",
      "metadata": {
        "id": "qJ3NyIte2USC"
      },
      "source": []
    },
    {
      "cell_type": "markdown",
      "metadata": {
        "id": "lHIVffmfTc_m"
      },
      "source": [
        "# DATA PRE_PROCESSING\n",
        "1.\t Data Pre-processing:\n",
        "\n",
        "\n",
        "*   Tokenization: The text data was tokenized into the respective tokens with the respective tokenizers for BERT and RoBERTa. In tokenization, the textual data gets converted into numerical form. It involves breaking down the text into tokens and then making a mapping to the corresponding IDs for the tokens. This step consists of padding the shorter sequences and trimming the longer ones to uniform input data of equal length, but not more than a maximum sequence length.\n",
        "*   Data Split: The dataset shall be divided into three parts: one with a share of 70% for training, another 15% for validation, and the remaining 15% for testing. The training set will be used to fine-tune the model, the validation set for hyperparameter tuning, and the test set for the final performance evaluation.\n"
      ]
    },
    {
      "cell_type": "code",
      "execution_count": 17,
      "metadata": {
        "id": "CZRvkORx2ihU"
      },
      "outputs": [],
      "source": [
        "# Drop rows with missing text or labels\n",
        "train_df = train_df.dropna(subset=['text', 'labels'])\n",
        "val_df = val_df.dropna(subset=['text', 'labels'])\n",
        "test_df = test_df.dropna(subset=['text', 'labels'])\n"
      ]
    },
    {
      "cell_type": "code",
      "execution_count": 18,
      "metadata": {
        "colab": {
          "base_uri": "https://localhost:8080/",
          "height": 316,
          "referenced_widgets": [
            "5d1ba9cdb48a42dda3cf97c4aa6c5c64",
            "a9646bd560844107bc68ba0bfc193298",
            "cd37e6219dc748779a304488c19b2530",
            "0506e6bda83e4e5e902a3bbe30360ab5",
            "160d748ac1734bb3b42ef2abf7446804",
            "297cbb92d8c54c7abaeca351867a9cf0",
            "84f627c8fb6245e988f58c3ea0147cc2",
            "47208e8e40ee4f85a2867917cf0677a9",
            "785a2253994b47c6971cd673d360f43c",
            "afc28af8d45d4430b622d81ad7af550e",
            "2650c3c177f74051bbcc8028d7f0b244",
            "23367ad3becf49789c50f772f0d8005d",
            "14aebbee29fc4dde81ecd2e48ee9631b",
            "d26ca217777748b28a337ba13f356b59",
            "9c0505b648f94401b92a384895542cb2",
            "8c0414072f824df692a480f9fc915493",
            "4a7acab24f77457ebc6f7d0d4d7e63ee",
            "6a384615eec64f61b18bd89b921be526",
            "5443eb647b7b4621b76b6dedb004990c",
            "ae7006da19f749e9951342354d99e5a1",
            "8185a6f78d3f48918417e15dbfeb7cd9",
            "ba5bfc867a2e40beb7034705ffc335ce",
            "4bb418efafc2413bb80fa480c0fcb0f5",
            "51d377431ec54248b859285549031c9e",
            "744327e717f74760a0c868d78f188ba9",
            "aa92731c82684db0b14b105786dae611",
            "e59f378e429d4633b2ecc75eb457bbb1",
            "5b0346e3331e488ea312148489c865df",
            "83b63861f5274523a2e7c6ea03ebd828",
            "af3dc12a77124397a5976b63f1257f38",
            "d9cfe14945204d089621b7fe4599c8b3",
            "aa2752912c7a4589a372c97f38235ca4",
            "9a8fe6f8ee204f44920cedd1ba375d8b",
            "156b16a667364583849c504c0eb10925",
            "2c8f5c02c6ce40db857d6cc21a7261d6",
            "630ab728e56b4cf9be6ba42ef85940a1",
            "76aaebf556a14d42bb3439f882acc124",
            "3e6be9ea16ad41b889daabcec8ca4fca",
            "211d0edd536544afbba80dc4b0700cc0",
            "0b18611dad0e40b3b4c238eb543ddeb5",
            "d97009e92a5046cf86d07c2ce3df2963",
            "b59bace53a2c454988305651a28626a8",
            "46989a5f35f84d05a95e558ce39c3782",
            "fb30c13df33a4a6b8447f499cbbb6d13",
            "d32a9e05ee37449196cf922ea9648f12",
            "4ef1e706328f42a8b867f6fb44380ed0",
            "2478ef1189664a62bab98a0f76263eef",
            "8e3b293b5b6b4f09b999525025eca917",
            "1041d067adf84d658dbf9ff621480fdf",
            "f33b142fed404626925255d50865de5d",
            "3d37391b4acb44358c96cf1061c8ec8b",
            "f55d8cff7b774246b75ea1f3608b3a15",
            "57a3905eeef14b388ed00bd479887a88",
            "7fadfbdfb5514781892bcd66954f4861",
            "8317c5a83f424bc8ad8ba5f0bdf7dfff",
            "367439f5dc5945329c6823df26ee62dd",
            "4f6982b315274d299289be1ff3444ce3",
            "3e34c5887cf64692ad7a078d6e6599ba",
            "9b9d28fb6bd8488da33d10868d4bff76",
            "6ff8b8db223e46f28a19194c5df6307a",
            "c0c82f4367ac4e5c81177c4409063d84",
            "836b1dab71da4dbcb10da305ce13c74e",
            "c0dbb30724df491cbc10b2ec5d9d3d97",
            "7adcba6640574cbabc3f82c4def9a28d",
            "0b62dcf5c61e4714bb29e222b43d5010",
            "5290679fdc8b4ea6b9537c412d5d6fcd"
          ]
        },
        "id": "gCF7rERi0V1n",
        "outputId": "670bea03-610c-4707-91ff-381485469bd1"
      },
      "outputs": [
        {
          "output_type": "display_data",
          "data": {
            "text/plain": [
              "tokenizer_config.json:   0%|          | 0.00/25.0 [00:00<?, ?B/s]"
            ],
            "application/vnd.jupyter.widget-view+json": {
              "version_major": 2,
              "version_minor": 0,
              "model_id": "5d1ba9cdb48a42dda3cf97c4aa6c5c64"
            }
          },
          "metadata": {}
        },
        {
          "output_type": "display_data",
          "data": {
            "text/plain": [
              "vocab.json:   0%|          | 0.00/899k [00:00<?, ?B/s]"
            ],
            "application/vnd.jupyter.widget-view+json": {
              "version_major": 2,
              "version_minor": 0,
              "model_id": "23367ad3becf49789c50f772f0d8005d"
            }
          },
          "metadata": {}
        },
        {
          "output_type": "display_data",
          "data": {
            "text/plain": [
              "merges.txt:   0%|          | 0.00/456k [00:00<?, ?B/s]"
            ],
            "application/vnd.jupyter.widget-view+json": {
              "version_major": 2,
              "version_minor": 0,
              "model_id": "4bb418efafc2413bb80fa480c0fcb0f5"
            }
          },
          "metadata": {}
        },
        {
          "output_type": "display_data",
          "data": {
            "text/plain": [
              "tokenizer.json:   0%|          | 0.00/1.36M [00:00<?, ?B/s]"
            ],
            "application/vnd.jupyter.widget-view+json": {
              "version_major": 2,
              "version_minor": 0,
              "model_id": "156b16a667364583849c504c0eb10925"
            }
          },
          "metadata": {}
        },
        {
          "output_type": "display_data",
          "data": {
            "text/plain": [
              "config.json:   0%|          | 0.00/481 [00:00<?, ?B/s]"
            ],
            "application/vnd.jupyter.widget-view+json": {
              "version_major": 2,
              "version_minor": 0,
              "model_id": "d32a9e05ee37449196cf922ea9648f12"
            }
          },
          "metadata": {}
        },
        {
          "output_type": "display_data",
          "data": {
            "text/plain": [
              "model.safetensors:   0%|          | 0.00/499M [00:00<?, ?B/s]"
            ],
            "application/vnd.jupyter.widget-view+json": {
              "version_major": 2,
              "version_minor": 0,
              "model_id": "367439f5dc5945329c6823df26ee62dd"
            }
          },
          "metadata": {}
        },
        {
          "output_type": "stream",
          "name": "stderr",
          "text": [
            "Some weights of the PyTorch model were not used when initializing the TF 2.0 model TFRobertaForSequenceClassification: ['roberta.embeddings.position_ids']\n",
            "- This IS expected if you are initializing TFRobertaForSequenceClassification from a PyTorch model trained on another task or with another architecture (e.g. initializing a TFBertForSequenceClassification model from a BertForPreTraining model).\n",
            "- This IS NOT expected if you are initializing TFRobertaForSequenceClassification from a PyTorch model that you expect to be exactly identical (e.g. initializing a TFBertForSequenceClassification model from a BertForSequenceClassification model).\n",
            "Some weights or buffers of the TF 2.0 model TFRobertaForSequenceClassification were not initialized from the PyTorch model and are newly initialized: ['classifier.dense.weight', 'classifier.dense.bias', 'classifier.out_proj.weight', 'classifier.out_proj.bias']\n",
            "You should probably TRAIN this model on a down-stream task to be able to use it for predictions and inference.\n"
          ]
        }
      ],
      "source": [
        "from transformers import RobertaTokenizer, TFRobertaForSequenceClassification\n",
        "\n",
        "# Load the RoBERTa tokenizer and model\n",
        "tokenizer_roberta = RobertaTokenizer.from_pretrained('roberta-base')\n",
        "model_roberta = TFRobertaForSequenceClassification.from_pretrained('roberta-base', num_labels=5)\n",
        "\n",
        "# Tokenize the dataset using RoBERTa tokenizer\n",
        "def tokenize_data_roberta(data):\n",
        "    return tokenizer_roberta(data['text'].tolist(), padding=True, truncation=True, return_tensors=\"tf\")\n",
        "\n",
        "train_encodings_roberta = tokenize_data_roberta(train_df)\n",
        "val_encodings_roberta = tokenize_data_roberta(val_df)\n",
        "test_encodings_roberta = tokenize_data_roberta(test_df)\n",
        "\n",
        "# Convert labels to tensors for RoBERTa\n",
        "train_labels_roberta = tf.convert_to_tensor(train_df['labels'].values)\n",
        "val_labels_roberta = tf.convert_to_tensor(val_df['labels'].values)\n",
        "test_labels_roberta = tf.convert_to_tensor(test_df['labels'].values)\n",
        "\n",
        "train_dataset_roberta = tf.data.Dataset.from_tensor_slices((\n",
        "    dict(train_encodings_roberta),\n",
        "    train_labels_roberta\n",
        ")).shuffle(len(train_df)).batch(16)\n",
        "\n",
        "val_dataset_roberta = tf.data.Dataset.from_tensor_slices((\n",
        "    dict(val_encodings_roberta),\n",
        "    val_labels_roberta\n",
        ")).batch(16)\n",
        "\n",
        "test_dataset_roberta = tf.data.Dataset.from_tensor_slices((\n",
        "    dict(test_encodings_roberta),\n",
        "    test_labels_roberta\n",
        ")).batch(16)"
      ]
    },
    {
      "cell_type": "markdown",
      "metadata": {
        "id": "hq2YnZ8q0YA2"
      },
      "source": [
        "# Fine Tuning\n",
        "\n",
        "**Model Training and fine tuning:**\n",
        "\n",
        "*   Model Initialization: Pre-trained BERT and RoBERTa models were loaded with their pre-trained weights.\n",
        "\n",
        "o\tOptimization: We used the Adam optimizer with different learning rates for each model to ensure convergence. We had tried earlier for the choice of learning rates.\n",
        "\n",
        "o\tRegularization: Dropouts were tuned to avoid overfitting, and early stopping was performed on validation loss.\n",
        "o\tThe metrics that tracked model performance on the training data included accuracy and loss.\n"
      ]
    },
    {
      "cell_type": "code",
      "execution_count": 19,
      "metadata": {
        "colab": {
          "base_uri": "https://localhost:8080/"
        },
        "id": "WuGOJesO0Ovo",
        "outputId": "7d0f62a5-bb07-4854-af74-8cf9a9644333"
      },
      "outputs": [
        {
          "output_type": "stream",
          "name": "stdout",
          "text": [
            "Epoch 1/10\n",
            "26/26 [==============================] - 86s 1s/step - loss: 1.2973 - accuracy: 0.5728 - val_loss: 1.3450 - val_accuracy: 0.4889\n",
            "Epoch 2/10\n",
            "26/26 [==============================] - 26s 1s/step - loss: 1.0994 - accuracy: 0.6000 - val_loss: 1.0770 - val_accuracy: 0.5333\n",
            "Epoch 3/10\n",
            "26/26 [==============================] - 26s 999ms/step - loss: 0.8672 - accuracy: 0.6420 - val_loss: 1.5370 - val_accuracy: 0.5111\n",
            "Epoch 4/10\n",
            "26/26 [==============================] - 26s 1s/step - loss: 0.8748 - accuracy: 0.6568 - val_loss: 0.9749 - val_accuracy: 0.5333\n",
            "Epoch 5/10\n",
            "26/26 [==============================] - 26s 994ms/step - loss: 0.6997 - accuracy: 0.7457 - val_loss: 1.0847 - val_accuracy: 0.5333\n",
            "Epoch 6/10\n",
            "26/26 [==============================] - 25s 979ms/step - loss: 0.5988 - accuracy: 0.7926 - val_loss: 1.1605 - val_accuracy: 0.4889\n"
          ]
        }
      ],
      "source": [
        "# Compile the RoBERTa model with a different learning rate or optimizer\n",
        "optimizer_roberta = tf.keras.optimizers.Adam(learning_rate=3e-5)  # Experiment with different learning rates\n",
        "\n",
        "# Implement early stopping to prevent overfitting\n",
        "early_stopping = tf.keras.callbacks.EarlyStopping(monitor='val_loss', patience=2, restore_best_weights=True)\n",
        "\n",
        "model_roberta.compile(optimizer=optimizer_roberta,\n",
        "                      loss=tf.keras.losses.SparseCategoricalCrossentropy(from_logits=True),\n",
        "                      metrics=['accuracy'])\n",
        "\n",
        "# Fine-tune the RoBERTa model\n",
        "history_roberta = model_roberta.fit(train_dataset_roberta,\n",
        "                                    epochs=10,  # Experiment with more epochs if needed\n",
        "                                    validation_data=val_dataset_roberta,\n",
        "                                    callbacks=[early_stopping])  # Use the same early stopping callback"
      ]
    },
    {
      "cell_type": "code",
      "execution_count": 20,
      "metadata": {
        "colab": {
          "base_uri": "https://localhost:8080/"
        },
        "id": "ObcRxWKmCVQS",
        "outputId": "5631b6cf-bf3a-4817-9754-bb51e3448652"
      },
      "outputs": [
        {
          "output_type": "stream",
          "name": "stdout",
          "text": [
            "4/4 [==============================] - 4s 276ms/step - loss: 0.8755 - accuracy: 0.6600\n",
            "RoBERTa Test Loss: 0.8754808306694031\n",
            "RoBERTa Test Accuracy: 0.6600000262260437\n"
          ]
        }
      ],
      "source": [
        "# Evaluate the RoBERTa model\n",
        "results_roberta = model_roberta.evaluate(test_dataset_roberta)\n",
        "print(f\"RoBERTa Test Loss: {results_roberta[0]}\")\n",
        "print(f\"RoBERTa Test Accuracy: {results_roberta[1]}\")"
      ]
    },
    {
      "cell_type": "markdown",
      "metadata": {
        "id": "E0rNoB3b0dcR"
      },
      "source": [
        "got the accuracy as 66. so this is our best model"
      ]
    },
    {
      "cell_type": "markdown",
      "metadata": {
        "id": "tpKlwkJf0eZb"
      },
      "source": [
        "# Evaluate the model"
      ]
    },
    {
      "cell_type": "code",
      "execution_count": 21,
      "metadata": {
        "colab": {
          "base_uri": "https://localhost:8080/"
        },
        "id": "8KB8N6cB0haU",
        "outputId": "6ca24d4a-aad0-4faf-89f3-ed1051903d2c"
      },
      "outputs": [
        {
          "output_type": "stream",
          "name": "stdout",
          "text": [
            "Review: These shoes are amazing, very comfortable and stylish!\n",
            "Predicted Sentiment: Excellent with probability 0.8890\n"
          ]
        }
      ],
      "source": [
        "# Function to predict sentiment\n",
        "def predict(text):\n",
        "    inputs = tokenizer_roberta(text, return_tensors=\"tf\", truncation=True, padding=True, max_length=512)\n",
        "    outputs = model_roberta(inputs)\n",
        "    logits = outputs['logits'].numpy()\n",
        "    probabilities = tf.nn.softmax(logits, axis=1).numpy()[0]\n",
        "    predicted_class = np.argmax(probabilities)\n",
        "    sentiment = map_labels(predicted_class)\n",
        "    predicted_probability = probabilities[predicted_class]\n",
        "    return sentiment, predicted_probability\n",
        "\n",
        "# Test the function\n",
        "sample_text = \"These shoes are amazing, very comfortable and stylish!\"\n",
        "print(f\"Review: {sample_text}\")\n",
        "print(f\"Predicted Sentiment: {predict(sample_text)[0]} with probability {predict(sample_text)[1]:.4f}\")\n"
      ]
    },
    {
      "cell_type": "markdown",
      "metadata": {
        "id": "f-LVHCDWVc2a"
      },
      "source": [
        "Sample Prediction:\n",
        "\n",
        "Input Review: \"These shoes are incredibly comfortable and stylish. I wear them every day, and they still look brand new!\" Model Prediction: Excellent Prediction Probability: 0.9011 This result indicates that the model is highly confident in predicting the sentiment of the input review as \"Excellent.\""
      ]
    },
    {
      "cell_type": "code",
      "execution_count": 22,
      "metadata": {
        "colab": {
          "base_uri": "https://localhost:8080/"
        },
        "id": "Uv1Pf4Iu1S-Q",
        "outputId": "e119b7bb-be1c-41eb-834a-526472c760f7"
      },
      "outputs": [
        {
          "output_type": "execute_result",
          "data": {
            "text/plain": [
              "('./fine-tuned-roberta-amazon-reviews/tokenizer_config.json',\n",
              " './fine-tuned-roberta-amazon-reviews/special_tokens_map.json',\n",
              " './fine-tuned-roberta-amazon-reviews/vocab.json',\n",
              " './fine-tuned-roberta-amazon-reviews/merges.txt',\n",
              " './fine-tuned-roberta-amazon-reviews/added_tokens.json')"
            ]
          },
          "metadata": {},
          "execution_count": 22
        }
      ],
      "source": [
        "# Save the model\n",
        "model_roberta.save_pretrained('./fine-tuned-roberta-amazon-reviews')\n",
        "tokenizer_roberta.save_pretrained('./fine-tuned-roberta-amazon-reviews')"
      ]
    },
    {
      "cell_type": "code",
      "execution_count": 23,
      "metadata": {
        "colab": {
          "base_uri": "https://localhost:8080/",
          "height": 504
        },
        "id": "w4c-DsTR1b_k",
        "outputId": "1d8e2ecf-0878-4da4-e95f-bfeb0a57d442"
      },
      "outputs": [
        {
          "output_type": "display_data",
          "data": {
            "text/plain": [
              "<Figure size 640x480 with 0 Axes>"
            ]
          },
          "metadata": {}
        },
        {
          "output_type": "display_data",
          "data": {
            "text/plain": [
              "<Figure size 800x500 with 2 Axes>"
            ],
            "image/png": "[encoded data removed]"
          },
          "metadata": {}
        }
      ],
      "source": [
        "# Plot training & validation accuracy values\n",
        "plt.suptitle(\"Losses and Metrics Plot\", fontsize=15)\n",
        "plt.figure(figsize=(8, 5))\n",
        "plt.subplot(1, 2, 1)\n",
        "plt.plot(history_roberta.history['accuracy'])\n",
        "plt.plot(history_roberta.history['val_accuracy'])\n",
        "plt.title('Model accuracy')\n",
        "plt.ylabel('Accuracy')\n",
        "plt.xlabel('Epoch')\n",
        "plt.legend(['Train', 'Validation'], loc='upper left')\n",
        "\n",
        "# Plot training & validation loss values\n",
        "plt.subplot(1, 2, 2)\n",
        "plt.plot(history_roberta.history['loss'])\n",
        "plt.plot(history_roberta.history['val_loss'])\n",
        "plt.title('Model loss')\n",
        "plt.ylabel('Loss')\n",
        "plt.xlabel('Epoch')\n",
        "plt.legend(['Train', 'Validation'], loc='upper left')\n",
        "plt.show()\n"
      ]
    },
    {
      "cell_type": "markdown",
      "metadata": {
        "id": "KsxvbgBhWcLC"
      },
      "source": []
    },
    {
      "cell_type": "markdown",
      "metadata": {
        "id": "x43Cakw9UZns"
      },
      "source": [
        "#From the comparison of the BERT and RoBERTa models based on the test loss and accuracy, we got few key insights.\n",
        "1. Test Accuracy:\n",
        "BERT Accuracy: 51.00%\n",
        "RoBERTa Accuracy: 66.00%\n",
        "Both models achieved the same accuracy on the test set, indicating that they performed equally well in terms of correctly classifying the test samples.\n",
        "\n",
        "2. Test Loss:\n",
        "BERT Test Loss: 1.095\n",
        "RoBERTa Test Loss: 0.8754\n",
        "**The test loss for RoBERTa is lower than that of BERT. In the context of machine learning, a lower loss indicates that the model's predictions are closer to the true labels. This suggests that RoBERTa's predictions, while leading to the same accuracy, are more confident or better calibrated compared to BERT's.**"
      ]
    },
    {
      "cell_type": "markdown",
      "metadata": {
        "id": "OBFYlHh71KBc"
      },
      "source": [
        "#Deployment"
      ]
    },
    {
      "cell_type": "code",
      "execution_count": 24,
      "metadata": {
        "colab": {
          "base_uri": "https://localhost:8080/"
        },
        "id": "Zly85PAU1OrN",
        "outputId": "64827548-ff5c-4eb3-9923-e277ea86b420"
      },
      "outputs": [
        {
          "output_type": "stream",
          "name": "stderr",
          "text": [
            "All model checkpoint layers were used when initializing TFRobertaForSequenceClassification.\n",
            "\n",
            "All the layers of TFRobertaForSequenceClassification were initialized from the model checkpoint at ./fine-tuned-roberta-amazon-reviews.\n",
            "If your task is similar to the task the model of the checkpoint was trained on, you can already use TFRobertaForSequenceClassification for predictions without further training.\n"
          ]
        }
      ],
      "source": [
        "# Load the model and tokenizer for future use\n",
        "model_roberta = TFRobertaForSequenceClassification.from_pretrained('./fine-tuned-roberta-amazon-reviews')\n",
        "tokenizer_roberta = RobertaTokenizer.from_pretrained('./fine-tuned-roberta-amazon-reviews')"
      ]
    },
    {
      "cell_type": "code",
      "execution_count": 26,
      "metadata": {
        "colab": {
          "base_uri": "https://localhost:8080/",
          "height": 220,
          "referenced_widgets": [
            "241c238f861b42f29e582a727514779f",
            "18d1344c72de4952bfd7472b0fc67d37",
            "859baf7786cb4085b32a994056b6d89a",
            "988c23f8e9794560847a2ef318a21eda",
            "1786bd9fa6184a3a96f1e05ec9b7b686",
            "4c950f593c314dc99779557c0137b27a"
          ]
        },
        "id": "3CvLpyM70qQp",
        "outputId": "1107d2e4-467b-4ccd-fa76-165584331900"
      },
      "outputs": [
        {
          "output_type": "stream",
          "name": "stdout",
          "text": [
            "Prediction: Excellent with probability 0.8856\n"
          ]
        },
        {
          "output_type": "display_data",
          "data": {
            "text/plain": [
              "Textarea(value='These are super cute!', description='Review:', layout=Layout(height='150px', width='80%'), pla…"
            ],
            "application/vnd.jupyter.widget-view+json": {
              "version_major": 2,
              "version_minor": 0,
              "model_id": "241c238f861b42f29e582a727514779f"
            }
          },
          "metadata": {}
        },
        {
          "output_type": "display_data",
          "data": {
            "text/plain": [
              "Button(description='Predict', style=ButtonStyle())"
            ],
            "application/vnd.jupyter.widget-view+json": {
              "version_major": 2,
              "version_minor": 0,
              "model_id": "988c23f8e9794560847a2ef318a21eda"
            }
          },
          "metadata": {}
        }
      ],
      "source": [
        "import numpy as np\n",
        "import tensorflow as tf\n",
        "from transformers import RobertaTokenizer, TFRobertaForSequenceClassification\n",
        "from IPython.display import display, clear_output\n",
        "import ipywidgets as widgets\n",
        "\n",
        "# Function to map labels\n",
        "def map_labels(label):\n",
        "    if label == 0:\n",
        "        return 'Very poor'\n",
        "    elif label == 1:\n",
        "        return 'Poor'\n",
        "    elif label == 2:\n",
        "        return 'Average'\n",
        "    elif label == 3:\n",
        "        return 'Good'\n",
        "    elif label == 4:\n",
        "        return 'Excellent'\n",
        "    else:\n",
        "        return 'Unknown'\n",
        "\n",
        "# Function to predict sentiment\n",
        "def predict(text):\n",
        "    inputs = tokenizer_roberta(text, return_tensors=\"tf\", truncation=True, padding=True, max_length=512)\n",
        "    outputs = model_roberta(inputs)\n",
        "    logits = outputs['logits'].numpy()\n",
        "    probabilities = tf.nn.softmax(logits, axis=1).numpy()[0]\n",
        "    predicted_class = np.argmax(probabilities)\n",
        "    sentiment = map_labels(predicted_class)\n",
        "    predicted_probability = probabilities[predicted_class]\n",
        "    return sentiment, predicted_probability\n",
        "\n",
        "# Button click event handler\n",
        "def on_button_click(button):\n",
        "    clear_output(wait=True)\n",
        "    sentiment, probability = predict(text_area.value)\n",
        "    print(f\"Prediction: {sentiment} with probability {probability:.4f}\")\n",
        "    display_ui()\n",
        "\n",
        "# Display the UI\n",
        "def display_ui():\n",
        "    display(text_area, button)\n",
        "\n",
        "# Define the text area for input\n",
        "text_area = widgets.Textarea(\n",
        "    value='',\n",
        "    placeholder='Type your review here',\n",
        "    description='Review:',\n",
        "    disabled=False,\n",
        "    layout=widgets.Layout(height='150px', width='80%')\n",
        ")\n",
        "\n",
        "# Define the button to trigger prediction\n",
        "button = widgets.Button(description=\"Predict\")\n",
        "button.on_click(on_button_click)\n",
        "\n",
        "# Display the UI initially\n",
        "display_ui()"
      ]
    },
    {
      "cell_type": "markdown",
      "metadata": {
        "id": "8ED88a8UU4pD"
      },
      "source": [
        "**After deploying the fine-tuned RoBERTa model, it successfully predicted sentiment with high accuracy, such as labeling a review as \"Excellent\" with a 90.11% probability. The API performed well under heavy traffic loads and showed fast response times, which made it a good fit for real-time applications. Through performance monitoring, the stability and dependability of the model under various circumstances were verified, guaranteeing consistent sentiment analysis for customer review.**\n",
        "\n"
      ]
    },
    {
      "cell_type": "markdown",
      "metadata": {
        "id": "nU6FXdBCZDmh"
      },
      "source": [
        "#CONCLUSION:\n",
        "\n",
        "In summary, RoBERTa fared better than BERT for this sentiment analysis assignment on Amazon shoe reviews in terms of prediction accuracy and confidence. This study illustrated the advantages of utilizing more sophisticated models like RoBERTa over more basic ones like BERT and showed how successful it is to fine-tune pre-trained language models on tasks.\n",
        "\n",
        "# FUTURE TASK:\n",
        "In the future, this might be improved by experimenting with more complex models, such as GPT-3 or T5, investigating data augmentation methods to improve training, and putting the refined model into a real-time sentiment analysis application to assess its performance in real-world scenarios. Furthermore, by retraining on fresh data, the model might get better over time with the integration of continuous learning pipelines.\n"
      ]
    },
    {
      "cell_type": "markdown",
      "metadata": {
        "id": "roK5DMotvysR"
      },
      "source": [
        "# Pre-processing and trianing the data to get the best model\n",
        "\n",
        "\n",
        "1.   using pre-trianed Bart model\n",
        "2.   using pre-trained Roberta model\n",
        "\n"
      ]
    },
    {
      "cell_type": "code",
      "execution_count": 18,
      "metadata": {
        "colab": {
          "base_uri": "https://localhost:8080/",
          "height": 113,
          "referenced_widgets": [
            "7aafc380fd704568803591f541c69bed",
            "70c862e0a16144ef86c57aae8e923a54",
            "ac916d5cbd364b5b87055ab30d786d1b",
            "540f362dc4a14ea8b211f32f8cc7b29f",
            "3998443fd1524c0f82c4ec3f44efb3ab",
            "bc7b70032867419f93f582bcceb1e564",
            "ae8870ef387a4618934f3a1476ac11fd",
            "9ebeb23ebe674cc3bbc63fcd0256dc07",
            "b5d8cb6780824e9eb51a21a26799be1d",
            "5802a08628e44dd088c947e9301ede97",
            "b0e3949986ea417fb58c62a34a2f33b7",
            "d68337aea6454f71889d611e5cf94f0e",
            "6727d2d8ccae43c99000549019d1cb4e",
            "3a629e79448043ef9364c9a25e8437f2",
            "26786513bd0948138542c7aebaaa9ca9",
            "46c621e77c0d436381f41ca6f8ece9b0",
            "779d0ade5ffa4cb089713a071e7a0087",
            "74b06dd2bb3c4e1396ec122a21d2217b",
            "87ba1e1f3b5b4581a775e71255b69dea",
            "9ac1f526c18348638b4caff4fb285d86",
            "586caf3092d94d5d892b7bf0e50308d0",
            "e231c88ec38a4ce886be40f4a81f5243",
            "e35679625be84865b8dc340e71ed4e58",
            "ae8db656b11a40f4bf8bd974cdd88a4e",
            "98f1e5c3c881498f962a1f3b3874d48b",
            "ab7869cc7535415ca86c412161965a63",
            "eb01ecdfbf9d49b1b3b18bf53d8657de",
            "0e299ab053fb42c0aa132e315bf83fe7",
            "f9c64d2e86bb47d89127a5296a4570db",
            "d7bfadde501e4ed9916def8653667df9",
            "da97fa376e2448cca31e8f19ba81f28f",
            "91b87b95c3da455587f82ea03e391890",
            "b5b6b0dd2bfa4067bb741c52b0dfb06a"
          ]
        },
        "id": "4kMzhiE1dp03",
        "outputId": "ec95c843-34f7-4483-abca-0245a42b13cc"
      },
      "outputs": [
        {
          "output_type": "display_data",
          "data": {
            "text/plain": [
              "tokenizer_config.json:   0%|          | 0.00/48.0 [00:00<?, ?B/s]"
            ],
            "application/vnd.jupyter.widget-view+json": {
              "version_major": 2,
              "version_minor": 0,
              "model_id": "7aafc380fd704568803591f541c69bed"
            }
          },
          "metadata": {}
        },
        {
          "output_type": "display_data",
          "data": {
            "text/plain": [
              "vocab.txt:   0%|          | 0.00/232k [00:00<?, ?B/s]"
            ],
            "application/vnd.jupyter.widget-view+json": {
              "version_major": 2,
              "version_minor": 0,
              "model_id": "d68337aea6454f71889d611e5cf94f0e"
            }
          },
          "metadata": {}
        },
        {
          "output_type": "display_data",
          "data": {
            "text/plain": [
              "tokenizer.json:   0%|          | 0.00/466k [00:00<?, ?B/s]"
            ],
            "application/vnd.jupyter.widget-view+json": {
              "version_major": 2,
              "version_minor": 0,
              "model_id": "e35679625be84865b8dc340e71ed4e58"
            }
          },
          "metadata": {}
        }
      ],
      "source": [
        "# Load the BERT tokenizer\n",
        "tokenizer = BertTokenizer.from_pretrained('bert-base-uncased')\n",
        "\n",
        "# Tokenize the dataset\n",
        "def tokenize_data(data):\n",
        "    return tokenizer(data['text'].tolist(), padding=True, truncation=True, return_tensors=\"tf\")\n",
        "\n",
        "train_encodings = tokenize_data(train_df)\n",
        "val_encodings = tokenize_data(val_df)\n",
        "test_encodings = tokenize_data(test_df)\n",
        "\n",
        "# Convert labels to tensors\n",
        "train_labels = tf.convert_to_tensor(train_df['labels'].values)\n",
        "val_labels = tf.convert_to_tensor(val_df['labels'].values)\n",
        "test_labels = tf.convert_to_tensor(test_df['labels'].values)\n"
      ]
    },
    {
      "cell_type": "code",
      "execution_count": 19,
      "metadata": {
        "id": "0_0jgLceeQsT"
      },
      "outputs": [],
      "source": [
        "train_dataset = tf.data.Dataset.from_tensor_slices((\n",
        "    dict(train_encodings),\n",
        "    train_labels\n",
        ")).shuffle(len(train_df)).batch(16)\n",
        "\n",
        "val_dataset = tf.data.Dataset.from_tensor_slices((\n",
        "    dict(val_encodings),\n",
        "    val_labels\n",
        ")).batch(16)\n",
        "\n",
        "test_dataset = tf.data.Dataset.from_tensor_slices((\n",
        "    dict(test_encodings),\n",
        "    test_labels\n",
        ")).batch(16)\n"
      ]
    },
    {
      "cell_type": "markdown",
      "metadata": {
        "id": "NeO-zN0iwyDU"
      },
      "source": [
        "## using pre-trianed Bart model"
      ]
    },
    {
      "cell_type": "code",
      "execution_count": 20,
      "metadata": {
        "colab": {
          "base_uri": "https://localhost:8080/"
        },
        "id": "yuDkcCfNzUrb",
        "outputId": "f1bce6cb-51ae-415b-de22-5c560244049f"
      },
      "outputs": [
        {
          "output_type": "stream",
          "name": "stderr",
          "text": [
            "All PyTorch model weights were used when initializing TFBertForSequenceClassification.\n",
            "\n",
            "Some weights or buffers of the TF 2.0 model TFBertForSequenceClassification were not initialized from the PyTorch model and are newly initialized: ['classifier.weight', 'classifier.bias']\n",
            "You should probably TRAIN this model on a down-stream task to be able to use it for predictions and inference.\n"
          ]
        },
        {
          "output_type": "stream",
          "name": "stdout",
          "text": [
            "Epoch 1/10\n",
            "26/26 [==============================] - 95s 1s/step - loss: 1.3394 - accuracy: 0.4938 - val_loss: 1.3104 - val_accuracy: 0.4889\n",
            "Epoch 2/10\n",
            "26/26 [==============================] - 23s 905ms/step - loss: 1.0900 - accuracy: 0.5951 - val_loss: 1.2237 - val_accuracy: 0.4889\n",
            "Epoch 3/10\n",
            "26/26 [==============================] - 24s 940ms/step - loss: 0.8889 - accuracy: 0.6370 - val_loss: 1.1922 - val_accuracy: 0.4889\n",
            "Epoch 4/10\n",
            "26/26 [==============================] - 24s 931ms/step - loss: 0.7801 - accuracy: 0.6840 - val_loss: 1.3740 - val_accuracy: 0.4667\n",
            "Epoch 5/10\n",
            "26/26 [==============================] - 24s 922ms/step - loss: 0.5770 - accuracy: 0.8000 - val_loss: 1.1829 - val_accuracy: 0.4222\n",
            "Epoch 6/10\n",
            "26/26 [==============================] - 24s 906ms/step - loss: 0.4005 - accuracy: 0.8815 - val_loss: 1.3762 - val_accuracy: 0.5111\n",
            "Epoch 7/10\n",
            "26/26 [==============================] - 24s 921ms/step - loss: 0.3202 - accuracy: 0.9160 - val_loss: 1.4379 - val_accuracy: 0.4667\n"
          ]
        }
      ],
      "source": [
        "from transformers import TFBertForSequenceClassification\n",
        "import tensorflow as tf\n",
        "\n",
        "# Load the pre-trained BERT model\n",
        "model = TFBertForSequenceClassification.from_pretrained('bert-base-uncased', num_labels=5)\n",
        "\n",
        "# Modify dropout rate for regularization (Optional)\n",
        "model.bert.dropout = tf.keras.layers.Dropout(0.3)  # Adjust dropout rate as needed\n",
        "\n",
        "# Compile the model with a lower learning rate and weight decay for regularization\n",
        "optimizer = tf.keras.optimizers.Adam(learning_rate=3e-5)  # Adjusted learning rate\n",
        "\n",
        "model.compile(optimizer=optimizer,\n",
        "              loss=tf.keras.losses.SparseCategoricalCrossentropy(from_logits=True),\n",
        "              metrics=['accuracy'])\n",
        "\n",
        "# Implement early stopping to prevent overfitting\n",
        "early_stopping = tf.keras.callbacks.EarlyStopping(monitor='val_loss', patience=2, restore_best_weights=True)\n",
        "\n",
        "# Fine-tune the model with more epochs and early stopping\n",
        "history = model.fit(train_dataset,\n",
        "                    epochs=10,  # Increased number of epochs\n",
        "                    validation_data=val_dataset,\n",
        "                    callbacks=[early_stopping])  # Early stopping callback\n"
      ]
    },
    {
      "cell_type": "code",
      "execution_count": 21,
      "metadata": {
        "colab": {
          "base_uri": "https://localhost:8080/"
        },
        "id": "NcamH_2nekBL",
        "outputId": "a17177cd-95a5-424f-b865-aa2e4d1a7aca"
      },
      "outputs": [
        {
          "output_type": "stream",
          "name": "stdout",
          "text": [
            "4/4 [==============================] - 21s 306ms/step - loss: 1.0648 - accuracy: 0.6000\n",
            "Test Loss: 1.0648083686828613\n",
            "Test Accuracy: 0.6000000238418579\n"
          ]
        }
      ],
      "source": [
        "# Evaluate the model on the test dataset\n",
        "results = model.evaluate(test_dataset)\n",
        "print(f\"Test Loss: {results[0]}\")\n",
        "print(f\"Test Accuracy: {results[1]}\")\n"
      ]
    },
    {
      "cell_type": "markdown",
      "source": [
        "Test Loss: 1.0648 and Test Accuracy: 0.60"
      ],
      "metadata": {
        "id": "PXRMJXYbfs5A"
      }
    },
    {
      "cell_type": "markdown",
      "metadata": {
        "id": "jAc85U9LeoXf"
      },
      "source": [
        "#### Evaluate the model"
      ]
    },
    {
      "cell_type": "code",
      "execution_count": 28,
      "metadata": {
        "colab": {
          "base_uri": "https://localhost:8080/"
        },
        "id": "Eff3hcI3en6A",
        "outputId": "cdbcd55b-8552-4a9a-920b-868e78c7305c"
      },
      "outputs": [
        {
          "output_type": "stream",
          "name": "stdout",
          "text": [
            "Review: These shoes are amazing, very comfortable and stylish!\n",
            "Predicted Sentiment: Excellent\n"
          ]
        }
      ],
      "source": [
        "# Function to predict sentiment\n",
        "def predict_sentiment(text):\n",
        "    inputs = tokenizer(text, return_tensors=\"tf\", padding=True, truncation=True)\n",
        "    outputs = model(inputs)\n",
        "    prediction = tf.argmax(outputs.logits, axis=1).numpy()[0]\n",
        "    return map_labels(prediction)\n",
        "\n",
        "# Test the function\n",
        "sample_text = \"These shoes are amazing, very comfortable and stylish!\"\n",
        "print(f\"Review: {sample_text}\")\n",
        "print(f\"Predicted Sentiment: {predict_sentiment(sample_text)}\")\n"
      ]
    },
    {
      "cell_type": "code",
      "execution_count": 29,
      "metadata": {
        "colab": {
          "base_uri": "https://localhost:8080/"
        },
        "id": "2EjFhzkgjoNo",
        "outputId": "6d796237-b369-4a06-fb27-45532ea80015"
      },
      "outputs": [
        {
          "output_type": "execute_result",
          "data": {
            "text/plain": [
              "('./fine-tuned-bert-amazon-reviews/tokenizer_config.json',\n",
              " './fine-tuned-bert-amazon-reviews/special_tokens_map.json',\n",
              " './fine-tuned-bert-amazon-reviews/vocab.txt',\n",
              " './fine-tuned-bert-amazon-reviews/added_tokens.json')"
            ]
          },
          "metadata": {},
          "execution_count": 29
        }
      ],
      "source": [
        "# Save the model\n",
        "model.save_pretrained('./fine-tuned-bert-amazon-reviews')\n",
        "tokenizer.save_pretrained('./fine-tuned-bert-amazon-reviews')"
      ]
    },
    {
      "cell_type": "code",
      "execution_count": 30,
      "metadata": {
        "colab": {
          "base_uri": "https://localhost:8080/",
          "height": 498
        },
        "id": "wc9j9hMeeu29",
        "outputId": "55227bc8-7ae4-4db1-f69d-79f01db4cdce"
      },
      "outputs": [
        {
          "output_type": "display_data",
          "data": {
            "text/plain": [
              "<Figure size 640x480 with 0 Axes>"
            ]
          },
          "metadata": {}
        },
        {
          "output_type": "display_data",
          "data": {
            "text/plain": [
              "<Figure size 1000x500 with 2 Axes>"
            ],
            "image/png": "[encoded data removed]"
          },
          "metadata": {}
        }
      ],
      "source": [
        "# Plot training & validation accuracy values\n",
        "plt.suptitle(\"Losses and Metrics Plot\", fontsize=15)\n",
        "plt.figure(figsize=(10, 5))\n",
        "plt.subplot(1, 2, 1)\n",
        "plt.plot(history.history['accuracy'])\n",
        "plt.plot(history.history['val_accuracy'])\n",
        "plt.title('Model accuracy')\n",
        "plt.ylabel('Accuracy')\n",
        "plt.xlabel('Epoch')\n",
        "plt.legend(['Train', 'Validation'], loc='upper left')\n",
        "\n",
        "# Plot training & validation loss values\n",
        "plt.subplot(1, 2, 2)\n",
        "plt.plot(history.history['loss'])\n",
        "plt.plot(history.history['val_loss'])\n",
        "plt.title('Model loss')\n",
        "plt.ylabel('Loss')\n",
        "plt.xlabel('Epoch')\n",
        "plt.legend(['Train', 'Validation'], loc='upper left')\n",
        "plt.show()\n"
      ]
    },
    {
      "cell_type": "markdown",
      "metadata": {
        "id": "1LgMP-opj0dq"
      },
      "source": [
        "#### Deployment"
      ]
    },
    {
      "cell_type": "code",
      "execution_count": 31,
      "metadata": {
        "colab": {
          "base_uri": "https://localhost:8080/"
        },
        "id": "MgD2VuCYkQ2k",
        "outputId": "5653400b-2b59-472f-df58-1c77aa63f7ca"
      },
      "outputs": [
        {
          "output_type": "stream",
          "name": "stderr",
          "text": [
            "Some layers from the model checkpoint at ./fine-tuned-bert-amazon-reviews were not used when initializing TFBertForSequenceClassification: ['dropout_115']\n",
            "- This IS expected if you are initializing TFBertForSequenceClassification from the checkpoint of a model trained on another task or with another architecture (e.g. initializing a BertForSequenceClassification model from a BertForPreTraining model).\n",
            "- This IS NOT expected if you are initializing TFBertForSequenceClassification from the checkpoint of a model that you expect to be exactly identical (initializing a BertForSequenceClassification model from a BertForSequenceClassification model).\n",
            "All the layers of TFBertForSequenceClassification were initialized from the model checkpoint at ./fine-tuned-bert-amazon-reviews.\n",
            "If your task is similar to the task the model of the checkpoint was trained on, you can already use TFBertForSequenceClassification for predictions without further training.\n"
          ]
        }
      ],
      "source": [
        "# Load the model and tokenizer\n",
        "model = TFBertForSequenceClassification.from_pretrained('./fine-tuned-bert-amazon-reviews')\n",
        "tokenizer = BertTokenizer.from_pretrained('./fine-tuned-bert-amazon-reviews')"
      ]
    },
    {
      "cell_type": "code",
      "execution_count": 41,
      "metadata": {
        "colab": {
          "base_uri": "https://localhost:8080/",
          "height": 220,
          "referenced_widgets": [
            "10d93e6e182a47a9b62b8ed641944adb",
            "bc0dcb9e2b3246faa50b520dd3047c1c",
            "cdd0c16940d94d30ab557d5330ecff32",
            "a082c16c5b7a414bbd8065592c3204f6",
            "41cc413d571b47ae97c1165cf7eaa938",
            "e35beed825984304bae4455fb20f9394"
          ]
        },
        "id": "oLNM9fyYllDn",
        "outputId": "4d989481-d1f3-44e7-cc89-6d8f93f1eb03"
      },
      "outputs": [
        {
          "output_type": "stream",
          "name": "stdout",
          "text": [
            "Prediction: Average with probability 0.3762\n"
          ]
        },
        {
          "output_type": "display_data",
          "data": {
            "text/plain": [
              "Textarea(value='its not good', description='Review:', layout=Layout(height='150px', width='80%'), placeholder=…"
            ],
            "application/vnd.jupyter.widget-view+json": {
              "version_major": 2,
              "version_minor": 0,
              "model_id": "10d93e6e182a47a9b62b8ed641944adb"
            }
          },
          "metadata": {}
        },
        {
          "output_type": "display_data",
          "data": {
            "text/plain": [
              "Button(description='Predict', style=ButtonStyle())"
            ],
            "application/vnd.jupyter.widget-view+json": {
              "version_major": 2,
              "version_minor": 0,
              "model_id": "a082c16c5b7a414bbd8065592c3204f6"
            }
          },
          "metadata": {}
        }
      ],
      "source": [
        "\n",
        "def map_labels(label):\n",
        "    if label == 0:\n",
        "        return 'Very poor'\n",
        "    elif label == 1:\n",
        "        return 'Poor'\n",
        "    elif label == 2:\n",
        "        return 'Average'\n",
        "    elif label == 3:\n",
        "        return 'Good'\n",
        "    elif label == 4:\n",
        "        return 'Excellent'\n",
        "    else:\n",
        "        return 'Unknown'\n",
        "\n",
        "def predict(text):\n",
        "    inputs = tokenizer(text, return_tensors=\"tf\", truncation=True, padding=True, max_length=512)\n",
        "    outputs = model(inputs)\n",
        "    logits = outputs['logits'].numpy()\n",
        "    probabilities = tf.nn.softmax(logits, axis=1).numpy()[0]\n",
        "    predicted_class = np.argmax(probabilities)\n",
        "    sentiment = map_labels(predicted_class)\n",
        "    predicted_probability = probabilities[predicted_class]\n",
        "    return sentiment, predicted_probability\n",
        "\n",
        "def on_button_click(button):\n",
        "    clear_output(wait=True)\n",
        "    sentiment, probability = predict(text_area.value)\n",
        "    print(f\"Prediction: {sentiment} with probability {probability:.4f}\")\n",
        "    display_ui()\n",
        "\n",
        "def display_ui():\n",
        "    display(text_area, button)\n",
        "\n",
        "text_area = widgets.Textarea(\n",
        "    value='',\n",
        "    placeholder='Type your review here',\n",
        "    description='Review:',\n",
        "    disabled=False,\n",
        "    layout=widgets.Layout(height='150px', width='80%')\n",
        ")\n",
        "\n",
        "button = widgets.Button(description=\"Predict\")\n",
        "button.on_click(on_button_click)\n",
        "\n",
        "display_ui()\n"
      ]
    },
    {
      "cell_type": "markdown",
      "metadata": {
        "id": "TNzwWgbBxbGD"
      },
      "source": [
        "**Comparing both model**"
      ]
    },
    {
      "cell_type": "markdown",
      "metadata": {
        "id": "9DhCw4RkxmkB"
      },
      "source": [
        "From the comparison of the BERT and RoBERTa models based on the test loss and accuracy, we got few key insights.\n",
        "1. Test Accuracy:\n",
        "BERT Accuracy: 60.00%\n",
        "RoBERTa Accuracy: 66.00%\n",
        "Both models achieved the same accuracy on the test set, indicating that they performed equally well in terms of correctly classifying the test samples.\n",
        "\n",
        "2. Test Loss:\n",
        "BERT Test Loss: 1.064\n",
        "RoBERTa Test Loss: 0.875\n",
        "**The test loss for RoBERTa is lower than that of BERT. In the context of machine learning, a lower loss indicates that the model's predictions are closer to the true labels. This suggests that RoBERTa's predictions, while leading to the same accuracy, are more confident or better calibrated compared to BERT's.**"
      ]
    }
  ],
  "metadata": {
    "accelerator": "GPU",
    "colab": {
      "gpuType": "T4",
      "provenance": []
    },
    "kernelspec": {
      "display_name": "Python 3",
      "name": "python3"
    },
    "language_info": {
      "name": "python"
    },
    "widgets": {
      "application/vnd.jupyter.widget-state+json": {
        "5d1ba9cdb48a42dda3cf97c4aa6c5c64": {
          "model_module": "@jupyter-widgets/controls",
          "model_name": "HBoxModel",
          "model_module_version": "1.5.0",
          "state": {
            "_dom_classes": [],
            "_model_module": "@jupyter-widgets/controls",
            "_model_module_version": "1.5.0",
            "_model_name": "HBoxModel",
            "_view_count": null,
            "_view_module": "@jupyter-widgets/controls",
            "_view_module_version": "1.5.0",
            "_view_name": "HBoxView",
            "box_style": "",
            "children": [
              "IPY_MODEL_a9646bd560844107bc68ba0bfc193298",
              "IPY_MODEL_cd37e6219dc748779a304488c19b2530",
              "IPY_MODEL_0506e6bda83e4e5e902a3bbe30360ab5"
            ],
            "layout": "IPY_MODEL_160d748ac1734bb3b42ef2abf7446804"
          }
        },
        "a9646bd560844107bc68ba0bfc193298": {
          "model_module": "@jupyter-widgets/controls",
          "model_name": "HTMLModel",
          "model_module_version": "1.5.0",
          "state": {
            "_dom_classes": [],
            "_model_module": "@jupyter-widgets/controls",
            "_model_module_version": "1.5.0",
            "_model_name": "HTMLModel",
            "_view_count": null,
            "_view_module": "@jupyter-widgets/controls",
            "_view_module_version": "1.5.0",
            "_view_name": "HTMLView",
            "description": "",
            "description_tooltip": null,
            "layout": "IPY_MODEL_297cbb92d8c54c7abaeca351867a9cf0",
            "placeholder": "​",
            "style": "IPY_MODEL_84f627c8fb6245e988f58c3ea0147cc2",
            "value": "tokenizer_config.json: 100%"
          }
        },
        "cd37e6219dc748779a304488c19b2530": {
          "model_module": "@jupyter-widgets/controls",
          "model_name": "FloatProgressModel",
          "model_module_version": "1.5.0",
          "state": {
            "_dom_classes": [],
            "_model_module": "@jupyter-widgets/controls",
            "_model_module_version": "1.5.0",
            "_model_name": "FloatProgressModel",
            "_view_count": null,
            "_view_module": "@jupyter-widgets/controls",
            "_view_module_version": "1.5.0",
            "_view_name": "ProgressView",
            "bar_style": "success",
            "description": "",
            "description_tooltip": null,
            "layout": "IPY_MODEL_47208e8e40ee4f85a2867917cf0677a9",
            "max": 25,
            "min": 0,
            "orientation": "horizontal",
            "style": "IPY_MODEL_785a2253994b47c6971cd673d360f43c",
            "value": 25
          }
        },
        "0506e6bda83e4e5e902a3bbe30360ab5": {
          "model_module": "@jupyter-widgets/controls",
          "model_name": "HTMLModel",
          "model_module_version": "1.5.0",
          "state": {
            "_dom_classes": [],
            "_model_module": "@jupyter-widgets/controls",
            "_model_module_version": "1.5.0",
            "_model_name": "HTMLModel",
            "_view_count": null,
            "_view_module": "@jupyter-widgets/controls",
            "_view_module_version": "1.5.0",
            "_view_name": "HTMLView",
            "description": "",
            "description_tooltip": null,
            "layout": "IPY_MODEL_afc28af8d45d4430b622d81ad7af550e",
            "placeholder": "​",
            "style": "IPY_MODEL_2650c3c177f74051bbcc8028d7f0b244",
            "value": " 25.0/25.0 [00:00&lt;00:00, 1.41kB/s]"
          }
        },
        "160d748ac1734bb3b42ef2abf7446804": {
          "model_module": "@jupyter-widgets/base",
          "model_name": "LayoutModel",
          "model_module_version": "1.2.0",
          "state": {
            "_model_module": "@jupyter-widgets/base",
            "_model_module_version": "1.2.0",
            "_model_name": "LayoutModel",
            "_view_count": null,
            "_view_module": "@jupyter-widgets/base",
            "_view_module_version": "1.2.0",
            "_view_name": "LayoutView",
            "align_content": null,
            "align_items": null,
            "align_self": null,
            "border": null,
            "bottom": null,
            "display": null,
            "flex": null,
            "flex_flow": null,
            "grid_area": null,
            "grid_auto_columns": null,
            "grid_auto_flow": null,
            "grid_auto_rows": null,
            "grid_column": null,
            "grid_gap": null,
            "grid_row": null,
            "grid_template_areas": null,
            "grid_template_columns": null,
            "grid_template_rows": null,
            "height": null,
            "justify_content": null,
            "justify_items": null,
            "left": null,
            "margin": null,
            "max_height": null,
            "max_width": null,
            "min_height": null,
            "min_width": null,
            "object_fit": null,
            "object_position": null,
            "order": null,
            "overflow": null,
            "overflow_x": null,
            "overflow_y": null,
            "padding": null,
            "right": null,
            "top": null,
            "visibility": null,
            "width": null
          }
        },
        "297cbb92d8c54c7abaeca351867a9cf0": {
          "model_module": "@jupyter-widgets/base",
          "model_name": "LayoutModel",
          "model_module_version": "1.2.0",
          "state": {
            "_model_module": "@jupyter-widgets/base",
            "_model_module_version": "1.2.0",
            "_model_name": "LayoutModel",
            "_view_count": null,
            "_view_module": "@jupyter-widgets/base",
            "_view_module_version": "1.2.0",
            "_view_name": "LayoutView",
            "align_content": null,
            "align_items": null,
            "align_self": null,
            "border": null,
            "bottom": null,
            "display": null,
            "flex": null,
            "flex_flow": null,
            "grid_area": null,
            "grid_auto_columns": null,
            "grid_auto_flow": null,
            "grid_auto_rows": null,
            "grid_column": null,
            "grid_gap": null,
            "grid_row": null,
            "grid_template_areas": null,
            "grid_template_columns": null,
            "grid_template_rows": null,
            "height": null,
            "justify_content": null,
            "justify_items": null,
            "left": null,
            "margin": null,
            "max_height": null,
            "max_width": null,
            "min_height": null,
            "min_width": null,
            "object_fit": null,
            "object_position": null,
            "order": null,
            "overflow": null,
            "overflow_x": null,
            "overflow_y": null,
            "padding": null,
            "right": null,
            "top": null,
            "visibility": null,
            "width": null
          }
        },
        "84f627c8fb6245e988f58c3ea0147cc2": {
          "model_module": "@jupyter-widgets/controls",
          "model_name": "DescriptionStyleModel",
          "model_module_version": "1.5.0",
          "state": {
            "_model_module": "@jupyter-widgets/controls",
            "_model_module_version": "1.5.0",
            "_model_name": "DescriptionStyleModel",
            "_view_count": null,
            "_view_module": "@jupyter-widgets/base",
            "_view_module_version": "1.2.0",
            "_view_name": "StyleView",
            "description_width": ""
          }
        },
        "47208e8e40ee4f85a2867917cf0677a9": {
          "model_module": "@jupyter-widgets/base",
          "model_name": "LayoutModel",
          "model_module_version": "1.2.0",
          "state": {
            "_model_module": "@jupyter-widgets/base",
            "_model_module_version": "1.2.0",
            "_model_name": "LayoutModel",
            "_view_count": null,
            "_view_module": "@jupyter-widgets/base",
            "_view_module_version": "1.2.0",
            "_view_name": "LayoutView",
            "align_content": null,
            "align_items": null,
            "align_self": null,
            "border": null,
            "bottom": null,
            "display": null,
            "flex": null,
            "flex_flow": null,
            "grid_area": null,
            "grid_auto_columns": null,
            "grid_auto_flow": null,
            "grid_auto_rows": null,
            "grid_column": null,
            "grid_gap": null,
            "grid_row": null,
            "grid_template_areas": null,
            "grid_template_columns": null,
            "grid_template_rows": null,
            "height": null,
            "justify_content": null,
            "justify_items": null,
            "left": null,
            "margin": null,
            "max_height": null,
            "max_width": null,
            "min_height": null,
            "min_width": null,
            "object_fit": null,
            "object_position": null,
            "order": null,
            "overflow": null,
            "overflow_x": null,
            "overflow_y": null,
            "padding": null,
            "right": null,
            "top": null,
            "visibility": null,
            "width": null
          }
        },
        "785a2253994b47c6971cd673d360f43c": {
          "model_module": "@jupyter-widgets/controls",
          "model_name": "ProgressStyleModel",
          "model_module_version": "1.5.0",
          "state": {
            "_model_module": "@jupyter-widgets/controls",
            "_model_module_version": "1.5.0",
            "_model_name": "ProgressStyleModel",
            "_view_count": null,
            "_view_module": "@jupyter-widgets/base",
            "_view_module_version": "1.2.0",
            "_view_name": "StyleView",
            "bar_color": null,
            "description_width": ""
          }
        },
        "afc28af8d45d4430b622d81ad7af550e": {
          "model_module": "@jupyter-widgets/base",
          "model_name": "LayoutModel",
          "model_module_version": "1.2.0",
          "state": {
            "_model_module": "@jupyter-widgets/base",
            "_model_module_version": "1.2.0",
            "_model_name": "LayoutModel",
            "_view_count": null,
            "_view_module": "@jupyter-widgets/base",
            "_view_module_version": "1.2.0",
            "_view_name": "LayoutView",
            "align_content": null,
            "align_items": null,
            "align_self": null,
            "border": null,
            "bottom": null,
            "display": null,
            "flex": null,
            "flex_flow": null,
            "grid_area": null,
            "grid_auto_columns": null,
            "grid_auto_flow": null,
            "grid_auto_rows": null,
            "grid_column": null,
            "grid_gap": null,
            "grid_row": null,
            "grid_template_areas": null,
            "grid_template_columns": null,
            "grid_template_rows": null,
            "height": null,
            "justify_content": null,
            "justify_items": null,
            "left": null,
            "margin": null,
            "max_height": null,
            "max_width": null,
            "min_height": null,
            "min_width": null,
            "object_fit": null,
            "object_position": null,
            "order": null,
            "overflow": null,
            "overflow_x": null,
            "overflow_y": null,
            "padding": null,
            "right": null,
            "top": null,
            "visibility": null,
            "width": null
          }
        },
        "2650c3c177f74051bbcc8028d7f0b244": {
          "model_module": "@jupyter-widgets/controls",
          "model_name": "DescriptionStyleModel",
          "model_module_version": "1.5.0",
          "state": {
            "_model_module": "@jupyter-widgets/controls",
            "_model_module_version": "1.5.0",
            "_model_name": "DescriptionStyleModel",
            "_view_count": null,
            "_view_module": "@jupyter-widgets/base",
            "_view_module_version": "1.2.0",
            "_view_name": "StyleView",
            "description_width": ""
          }
        },
        "23367ad3becf49789c50f772f0d8005d": {
          "model_module": "@jupyter-widgets/controls",
          "model_name": "HBoxModel",
          "model_module_version": "1.5.0",
          "state": {
            "_dom_classes": [],
            "_model_module": "@jupyter-widgets/controls",
            "_model_module_version": "1.5.0",
            "_model_name": "HBoxModel",
            "_view_count": null,
            "_view_module": "@jupyter-widgets/controls",
            "_view_module_version": "1.5.0",
            "_view_name": "HBoxView",
            "box_style": "",
            "children": [
              "IPY_MODEL_14aebbee29fc4dde81ecd2e48ee9631b",
              "IPY_MODEL_d26ca217777748b28a337ba13f356b59",
              "IPY_MODEL_9c0505b648f94401b92a384895542cb2"
            ],
            "layout": "IPY_MODEL_8c0414072f824df692a480f9fc915493"
          }
        },
        "14aebbee29fc4dde81ecd2e48ee9631b": {
          "model_module": "@jupyter-widgets/controls",
          "model_name": "HTMLModel",
          "model_module_version": "1.5.0",
          "state": {
            "_dom_classes": [],
            "_model_module": "@jupyter-widgets/controls",
            "_model_module_version": "1.5.0",
            "_model_name": "HTMLModel",
            "_view_count": null,
            "_view_module": "@jupyter-widgets/controls",
            "_view_module_version": "1.5.0",
            "_view_name": "HTMLView",
            "description": "",
            "description_tooltip": null,
            "layout": "IPY_MODEL_4a7acab24f77457ebc6f7d0d4d7e63ee",
            "placeholder": "​",
            "style": "IPY_MODEL_6a384615eec64f61b18bd89b921be526",
            "value": "vocab.json: 100%"
          }
        },
        "d26ca217777748b28a337ba13f356b59": {
          "model_module": "@jupyter-widgets/controls",
          "model_name": "FloatProgressModel",
          "model_module_version": "1.5.0",
          "state": {
            "_dom_classes": [],
            "_model_module": "@jupyter-widgets/controls",
            "_model_module_version": "1.5.0",
            "_model_name": "FloatProgressModel",
            "_view_count": null,
            "_view_module": "@jupyter-widgets/controls",
            "_view_module_version": "1.5.0",
            "_view_name": "ProgressView",
            "bar_style": "success",
            "description": "",
            "description_tooltip": null,
            "layout": "IPY_MODEL_5443eb647b7b4621b76b6dedb004990c",
            "max": 898823,
            "min": 0,
            "orientation": "horizontal",
            "style": "IPY_MODEL_ae7006da19f749e9951342354d99e5a1",
            "value": 898823
          }
        },
        "9c0505b648f94401b92a384895542cb2": {
          "model_module": "@jupyter-widgets/controls",
          "model_name": "HTMLModel",
          "model_module_version": "1.5.0",
          "state": {
            "_dom_classes": [],
            "_model_module": "@jupyter-widgets/controls",
            "_model_module_version": "1.5.0",
            "_model_name": "HTMLModel",
            "_view_count": null,
            "_view_module": "@jupyter-widgets/controls",
            "_view_module_version": "1.5.0",
            "_view_name": "HTMLView",
            "description": "",
            "description_tooltip": null,
            "layout": "IPY_MODEL_8185a6f78d3f48918417e15dbfeb7cd9",
            "placeholder": "​",
            "style": "IPY_MODEL_ba5bfc867a2e40beb7034705ffc335ce",
            "value": " 899k/899k [00:00&lt;00:00, 6.60MB/s]"
          }
        },
        "8c0414072f824df692a480f9fc915493": {
          "model_module": "@jupyter-widgets/base",
          "model_name": "LayoutModel",
          "model_module_version": "1.2.0",
          "state": {
            "_model_module": "@jupyter-widgets/base",
            "_model_module_version": "1.2.0",
            "_model_name": "LayoutModel",
            "_view_count": null,
            "_view_module": "@jupyter-widgets/base",
            "_view_module_version": "1.2.0",
            "_view_name": "LayoutView",
            "align_content": null,
            "align_items": null,
            "align_self": null,
            "border": null,
            "bottom": null,
            "display": null,
            "flex": null,
            "flex_flow": null,
            "grid_area": null,
            "grid_auto_columns": null,
            "grid_auto_flow": null,
            "grid_auto_rows": null,
            "grid_column": null,
            "grid_gap": null,
            "grid_row": null,
            "grid_template_areas": null,
            "grid_template_columns": null,
            "grid_template_rows": null,
            "height": null,
            "justify_content": null,
            "justify_items": null,
            "left": null,
            "margin": null,
            "max_height": null,
            "max_width": null,
            "min_height": null,
            "min_width": null,
            "object_fit": null,
            "object_position": null,
            "order": null,
            "overflow": null,
            "overflow_x": null,
            "overflow_y": null,
            "padding": null,
            "right": null,
            "top": null,
            "visibility": null,
            "width": null
          }
        },
        "4a7acab24f77457ebc6f7d0d4d7e63ee": {
          "model_module": "@jupyter-widgets/base",
          "model_name": "LayoutModel",
          "model_module_version": "1.2.0",
          "state": {
            "_model_module": "@jupyter-widgets/base",
            "_model_module_version": "1.2.0",
            "_model_name": "LayoutModel",
            "_view_count": null,
            "_view_module": "@jupyter-widgets/base",
            "_view_module_version": "1.2.0",
            "_view_name": "LayoutView",
            "align_content": null,
            "align_items": null,
            "align_self": null,
            "border": null,
            "bottom": null,
            "display": null,
            "flex": null,
            "flex_flow": null,
            "grid_area": null,
            "grid_auto_columns": null,
            "grid_auto_flow": null,
            "grid_auto_rows": null,
            "grid_column": null,
            "grid_gap": null,
            "grid_row": null,
            "grid_template_areas": null,
            "grid_template_columns": null,
            "grid_template_rows": null,
            "height": null,
            "justify_content": null,
            "justify_items": null,
            "left": null,
            "margin": null,
            "max_height": null,
            "max_width": null,
            "min_height": null,
            "min_width": null,
            "object_fit": null,
            "object_position": null,
            "order": null,
            "overflow": null,
            "overflow_x": null,
            "overflow_y": null,
            "padding": null,
            "right": null,
            "top": null,
            "visibility": null,
            "width": null
          }
        },
        "6a384615eec64f61b18bd89b921be526": {
          "model_module": "@jupyter-widgets/controls",
          "model_name": "DescriptionStyleModel",
          "model_module_version": "1.5.0",
          "state": {
            "_model_module": "@jupyter-widgets/controls",
            "_model_module_version": "1.5.0",
            "_model_name": "DescriptionStyleModel",
            "_view_count": null,
            "_view_module": "@jupyter-widgets/base",
            "_view_module_version": "1.2.0",
            "_view_name": "StyleView",
            "description_width": ""
          }
        },
        "5443eb647b7b4621b76b6dedb004990c": {
          "model_module": "@jupyter-widgets/base",
          "model_name": "LayoutModel",
          "model_module_version": "1.2.0",
          "state": {
            "_model_module": "@jupyter-widgets/base",
            "_model_module_version": "1.2.0",
            "_model_name": "LayoutModel",
            "_view_count": null,
            "_view_module": "@jupyter-widgets/base",
            "_view_module_version": "1.2.0",
            "_view_name": "LayoutView",
            "align_content": null,
            "align_items": null,
            "align_self": null,
            "border": null,
            "bottom": null,
            "display": null,
            "flex": null,
            "flex_flow": null,
            "grid_area": null,
            "grid_auto_columns": null,
            "grid_auto_flow": null,
            "grid_auto_rows": null,
            "grid_column": null,
            "grid_gap": null,
            "grid_row": null,
            "grid_template_areas": null,
            "grid_template_columns": null,
            "grid_template_rows": null,
            "height": null,
            "justify_content": null,
            "justify_items": null,
            "left": null,
            "margin": null,
            "max_height": null,
            "max_width": null,
            "min_height": null,
            "min_width": null,
            "object_fit": null,
            "object_position": null,
            "order": null,
            "overflow": null,
            "overflow_x": null,
            "overflow_y": null,
            "padding": null,
            "right": null,
            "top": null,
            "visibility": null,
            "width": null
          }
        },
        "ae7006da19f749e9951342354d99e5a1": {
          "model_module": "@jupyter-widgets/controls",
          "model_name": "ProgressStyleModel",
          "model_module_version": "1.5.0",
          "state": {
            "_model_module": "@jupyter-widgets/controls",
            "_model_module_version": "1.5.0",
            "_model_name": "ProgressStyleModel",
            "_view_count": null,
            "_view_module": "@jupyter-widgets/base",
            "_view_module_version": "1.2.0",
            "_view_name": "StyleView",
            "bar_color": null,
            "description_width": ""
          }
        },
        "8185a6f78d3f48918417e15dbfeb7cd9": {
          "model_module": "@jupyter-widgets/base",
          "model_name": "LayoutModel",
          "model_module_version": "1.2.0",
          "state": {
            "_model_module": "@jupyter-widgets/base",
            "_model_module_version": "1.2.0",
            "_model_name": "LayoutModel",
            "_view_count": null,
            "_view_module": "@jupyter-widgets/base",
            "_view_module_version": "1.2.0",
            "_view_name": "LayoutView",
            "align_content": null,
            "align_items": null,
            "align_self": null,
            "border": null,
            "bottom": null,
            "display": null,
            "flex": null,
            "flex_flow": null,
            "grid_area": null,
            "grid_auto_columns": null,
            "grid_auto_flow": null,
            "grid_auto_rows": null,
            "grid_column": null,
            "grid_gap": null,
            "grid_row": null,
            "grid_template_areas": null,
            "grid_template_columns": null,
            "grid_template_rows": null,
            "height": null,
            "justify_content": null,
            "justify_items": null,
            "left": null,
            "margin": null,
            "max_height": null,
            "max_width": null,
            "min_height": null,
            "min_width": null,
            "object_fit": null,
            "object_position": null,
            "order": null,
            "overflow": null,
            "overflow_x": null,
            "overflow_y": null,
            "padding": null,
            "right": null,
            "top": null,
            "visibility": null,
            "width": null
          }
        },
        "ba5bfc867a2e40beb7034705ffc335ce": {
          "model_module": "@jupyter-widgets/controls",
          "model_name": "DescriptionStyleModel",
          "model_module_version": "1.5.0",
          "state": {
            "_model_module": "@jupyter-widgets/controls",
            "_model_module_version": "1.5.0",
            "_model_name": "DescriptionStyleModel",
            "_view_count": null,
            "_view_module": "@jupyter-widgets/base",
            "_view_module_version": "1.2.0",
            "_view_name": "StyleView",
            "description_width": ""
          }
        },
        "4bb418efafc2413bb80fa480c0fcb0f5": {
          "model_module": "@jupyter-widgets/controls",
          "model_name": "HBoxModel",
          "model_module_version": "1.5.0",
          "state": {
            "_dom_classes": [],
            "_model_module": "@jupyter-widgets/controls",
            "_model_module_version": "1.5.0",
            "_model_name": "HBoxModel",
            "_view_count": null,
            "_view_module": "@jupyter-widgets/controls",
            "_view_module_version": "1.5.0",
            "_view_name": "HBoxView",
            "box_style": "",
            "children": [
              "IPY_MODEL_51d377431ec54248b859285549031c9e",
              "IPY_MODEL_744327e717f74760a0c868d78f188ba9",
              "IPY_MODEL_aa92731c82684db0b14b105786dae611"
            ],
            "layout": "IPY_MODEL_e59f378e429d4633b2ecc75eb457bbb1"
          }
        },
        "51d377431ec54248b859285549031c9e": {
          "model_module": "@jupyter-widgets/controls",
          "model_name": "HTMLModel",
          "model_module_version": "1.5.0",
          "state": {
            "_dom_classes": [],
            "_model_module": "@jupyter-widgets/controls",
            "_model_module_version": "1.5.0",
            "_model_name": "HTMLModel",
            "_view_count": null,
            "_view_module": "@jupyter-widgets/controls",
            "_view_module_version": "1.5.0",
            "_view_name": "HTMLView",
            "description": "",
            "description_tooltip": null,
            "layout": "IPY_MODEL_5b0346e3331e488ea312148489c865df",
            "placeholder": "​",
            "style": "IPY_MODEL_83b63861f5274523a2e7c6ea03ebd828",
            "value": "merges.txt: 100%"
          }
        },
        "744327e717f74760a0c868d78f188ba9": {
          "model_module": "@jupyter-widgets/controls",
          "model_name": "FloatProgressModel",
          "model_module_version": "1.5.0",
          "state": {
            "_dom_classes": [],
            "_model_module": "@jupyter-widgets/controls",
            "_model_module_version": "1.5.0",
            "_model_name": "FloatProgressModel",
            "_view_count": null,
            "_view_module": "@jupyter-widgets/controls",
            "_view_module_version": "1.5.0",
            "_view_name": "ProgressView",
            "bar_style": "success",
            "description": "",
            "description_tooltip": null,
            "layout": "IPY_MODEL_af3dc12a77124397a5976b63f1257f38",
            "max": 456318,
            "min": 0,
            "orientation": "horizontal",
            "style": "IPY_MODEL_d9cfe14945204d089621b7fe4599c8b3",
            "value": 456318
          }
        },
        "aa92731c82684db0b14b105786dae611": {
          "model_module": "@jupyter-widgets/controls",
          "model_name": "HTMLModel",
          "model_module_version": "1.5.0",
          "state": {
            "_dom_classes": [],
            "_model_module": "@jupyter-widgets/controls",
            "_model_module_version": "1.5.0",
            "_model_name": "HTMLModel",
            "_view_count": null,
            "_view_module": "@jupyter-widgets/controls",
            "_view_module_version": "1.5.0",
            "_view_name": "HTMLView",
            "description": "",
            "description_tooltip": null,
            "layout": "IPY_MODEL_aa2752912c7a4589a372c97f38235ca4",
            "placeholder": "​",
            "style": "IPY_MODEL_9a8fe6f8ee204f44920cedd1ba375d8b",
            "value": " 456k/456k [00:00&lt;00:00, 6.76MB/s]"
          }
        },
        "e59f378e429d4633b2ecc75eb457bbb1": {
          "model_module": "@jupyter-widgets/base",
          "model_name": "LayoutModel",
          "model_module_version": "1.2.0",
          "state": {
            "_model_module": "@jupyter-widgets/base",
            "_model_module_version": "1.2.0",
            "_model_name": "LayoutModel",
            "_view_count": null,
            "_view_module": "@jupyter-widgets/base",
            "_view_module_version": "1.2.0",
            "_view_name": "LayoutView",
            "align_content": null,
            "align_items": null,
            "align_self": null,
            "border": null,
            "bottom": null,
            "display": null,
            "flex": null,
            "flex_flow": null,
            "grid_area": null,
            "grid_auto_columns": null,
            "grid_auto_flow": null,
            "grid_auto_rows": null,
            "grid_column": null,
            "grid_gap": null,
            "grid_row": null,
            "grid_template_areas": null,
            "grid_template_columns": null,
            "grid_template_rows": null,
            "height": null,
            "justify_content": null,
            "justify_items": null,
            "left": null,
            "margin": null,
            "max_height": null,
            "max_width": null,
            "min_height": null,
            "min_width": null,
            "object_fit": null,
            "object_position": null,
            "order": null,
            "overflow": null,
            "overflow_x": null,
            "overflow_y": null,
            "padding": null,
            "right": null,
            "top": null,
            "visibility": null,
            "width": null
          }
        },
        "5b0346e3331e488ea312148489c865df": {
          "model_module": "@jupyter-widgets/base",
          "model_name": "LayoutModel",
          "model_module_version": "1.2.0",
          "state": {
            "_model_module": "@jupyter-widgets/base",
            "_model_module_version": "1.2.0",
            "_model_name": "LayoutModel",
            "_view_count": null,
            "_view_module": "@jupyter-widgets/base",
            "_view_module_version": "1.2.0",
            "_view_name": "LayoutView",
            "align_content": null,
            "align_items": null,
            "align_self": null,
            "border": null,
            "bottom": null,
            "display": null,
            "flex": null,
            "flex_flow": null,
            "grid_area": null,
            "grid_auto_columns": null,
            "grid_auto_flow": null,
            "grid_auto_rows": null,
            "grid_column": null,
            "grid_gap": null,
            "grid_row": null,
            "grid_template_areas": null,
            "grid_template_columns": null,
            "grid_template_rows": null,
            "height": null,
            "justify_content": null,
            "justify_items": null,
            "left": null,
            "margin": null,
            "max_height": null,
            "max_width": null,
            "min_height": null,
            "min_width": null,
            "object_fit": null,
            "object_position": null,
            "order": null,
            "overflow": null,
            "overflow_x": null,
            "overflow_y": null,
            "padding": null,
            "right": null,
            "top": null,
            "visibility": null,
            "width": null
          }
        },
        "83b63861f5274523a2e7c6ea03ebd828": {
          "model_module": "@jupyter-widgets/controls",
          "model_name": "DescriptionStyleModel",
          "model_module_version": "1.5.0",
          "state": {
            "_model_module": "@jupyter-widgets/controls",
            "_model_module_version": "1.5.0",
            "_model_name": "DescriptionStyleModel",
            "_view_count": null,
            "_view_module": "@jupyter-widgets/base",
            "_view_module_version": "1.2.0",
            "_view_name": "StyleView",
            "description_width": ""
          }
        },
        "af3dc12a77124397a5976b63f1257f38": {
          "model_module": "@jupyter-widgets/base",
          "model_name": "LayoutModel",
          "model_module_version": "1.2.0",
          "state": {
            "_model_module": "@jupyter-widgets/base",
            "_model_module_version": "1.2.0",
            "_model_name": "LayoutModel",
            "_view_count": null,
            "_view_module": "@jupyter-widgets/base",
            "_view_module_version": "1.2.0",
            "_view_name": "LayoutView",
            "align_content": null,
            "align_items": null,
            "align_self": null,
            "border": null,
            "bottom": null,
            "display": null,
            "flex": null,
            "flex_flow": null,
            "grid_area": null,
            "grid_auto_columns": null,
            "grid_auto_flow": null,
            "grid_auto_rows": null,
            "grid_column": null,
            "grid_gap": null,
            "grid_row": null,
            "grid_template_areas": null,
            "grid_template_columns": null,
            "grid_template_rows": null,
            "height": null,
            "justify_content": null,
            "justify_items": null,
            "left": null,
            "margin": null,
            "max_height": null,
            "max_width": null,
            "min_height": null,
            "min_width": null,
            "object_fit": null,
            "object_position": null,
            "order": null,
            "overflow": null,
            "overflow_x": null,
            "overflow_y": null,
            "padding": null,
            "right": null,
            "top": null,
            "visibility": null,
            "width": null
          }
        },
        "d9cfe14945204d089621b7fe4599c8b3": {
          "model_module": "@jupyter-widgets/controls",
          "model_name": "ProgressStyleModel",
          "model_module_version": "1.5.0",
          "state": {
            "_model_module": "@jupyter-widgets/controls",
            "_model_module_version": "1.5.0",
            "_model_name": "ProgressStyleModel",
            "_view_count": null,
            "_view_module": "@jupyter-widgets/base",
            "_view_module_version": "1.2.0",
            "_view_name": "StyleView",
            "bar_color": null,
            "description_width": ""
          }
        },
        "aa2752912c7a4589a372c97f38235ca4": {
          "model_module": "@jupyter-widgets/base",
          "model_name": "LayoutModel",
          "model_module_version": "1.2.0",
          "state": {
            "_model_module": "@jupyter-widgets/base",
            "_model_module_version": "1.2.0",
            "_model_name": "LayoutModel",
            "_view_count": null,
            "_view_module": "@jupyter-widgets/base",
            "_view_module_version": "1.2.0",
            "_view_name": "LayoutView",
            "align_content": null,
            "align_items": null,
            "align_self": null,
            "border": null,
            "bottom": null,
            "display": null,
            "flex": null,
            "flex_flow": null,
            "grid_area": null,
            "grid_auto_columns": null,
            "grid_auto_flow": null,
            "grid_auto_rows": null,
            "grid_column": null,
            "grid_gap": null,
            "grid_row": null,
            "grid_template_areas": null,
            "grid_template_columns": null,
            "grid_template_rows": null,
            "height": null,
            "justify_content": null,
            "justify_items": null,
            "left": null,
            "margin": null,
            "max_height": null,
            "max_width": null,
            "min_height": null,
            "min_width": null,
            "object_fit": null,
            "object_position": null,
            "order": null,
            "overflow": null,
            "overflow_x": null,
            "overflow_y": null,
            "padding": null,
            "right": null,
            "top": null,
            "visibility": null,
            "width": null
          }
        },
        "9a8fe6f8ee204f44920cedd1ba375d8b": {
          "model_module": "@jupyter-widgets/controls",
          "model_name": "DescriptionStyleModel",
          "model_module_version": "1.5.0",
          "state": {
            "_model_module": "@jupyter-widgets/controls",
            "_model_module_version": "1.5.0",
            "_model_name": "DescriptionStyleModel",
            "_view_count": null,
            "_view_module": "@jupyter-widgets/base",
            "_view_module_version": "1.2.0",
            "_view_name": "StyleView",
            "description_width": ""
          }
        },
        "156b16a667364583849c504c0eb10925": {
          "model_module": "@jupyter-widgets/controls",
          "model_name": "HBoxModel",
          "model_module_version": "1.5.0",
          "state": {
            "_dom_classes": [],
            "_model_module": "@jupyter-widgets/controls",
            "_model_module_version": "1.5.0",
            "_model_name": "HBoxModel",
            "_view_count": null,
            "_view_module": "@jupyter-widgets/controls",
            "_view_module_version": "1.5.0",
            "_view_name": "HBoxView",
            "box_style": "",
            "children": [
              "IPY_MODEL_2c8f5c02c6ce40db857d6cc21a7261d6",
              "IPY_MODEL_630ab728e56b4cf9be6ba42ef85940a1",
              "IPY_MODEL_76aaebf556a14d42bb3439f882acc124"
            ],
            "layout": "IPY_MODEL_3e6be9ea16ad41b889daabcec8ca4fca"
          }
        },
        "2c8f5c02c6ce40db857d6cc21a7261d6": {
          "model_module": "@jupyter-widgets/controls",
          "model_name": "HTMLModel",
          "model_module_version": "1.5.0",
          "state": {
            "_dom_classes": [],
            "_model_module": "@jupyter-widgets/controls",
            "_model_module_version": "1.5.0",
            "_model_name": "HTMLModel",
            "_view_count": null,
            "_view_module": "@jupyter-widgets/controls",
            "_view_module_version": "1.5.0",
            "_view_name": "HTMLView",
            "description": "",
            "description_tooltip": null,
            "layout": "IPY_MODEL_211d0edd536544afbba80dc4b0700cc0",
            "placeholder": "​",
            "style": "IPY_MODEL_0b18611dad0e40b3b4c238eb543ddeb5",
            "value": "tokenizer.json: 100%"
          }
        },
        "630ab728e56b4cf9be6ba42ef85940a1": {
          "model_module": "@jupyter-widgets/controls",
          "model_name": "FloatProgressModel",
          "model_module_version": "1.5.0",
          "state": {
            "_dom_classes": [],
            "_model_module": "@jupyter-widgets/controls",
            "_model_module_version": "1.5.0",
            "_model_name": "FloatProgressModel",
            "_view_count": null,
            "_view_module": "@jupyter-widgets/controls",
            "_view_module_version": "1.5.0",
            "_view_name": "ProgressView",
            "bar_style": "success",
            "description": "",
            "description_tooltip": null,
            "layout": "IPY_MODEL_d97009e92a5046cf86d07c2ce3df2963",
            "max": 1355863,
            "min": 0,
            "orientation": "horizontal",
            "style": "IPY_MODEL_b59bace53a2c454988305651a28626a8",
            "value": 1355863
          }
        },
        "76aaebf556a14d42bb3439f882acc124": {
          "model_module": "@jupyter-widgets/controls",
          "model_name": "HTMLModel",
          "model_module_version": "1.5.0",
          "state": {
            "_dom_classes": [],
            "_model_module": "@jupyter-widgets/controls",
            "_model_module_version": "1.5.0",
            "_model_name": "HTMLModel",
            "_view_count": null,
            "_view_module": "@jupyter-widgets/controls",
            "_view_module_version": "1.5.0",
            "_view_name": "HTMLView",
            "description": "",
            "description_tooltip": null,
            "layout": "IPY_MODEL_46989a5f35f84d05a95e558ce39c3782",
            "placeholder": "​",
            "style": "IPY_MODEL_fb30c13df33a4a6b8447f499cbbb6d13",
            "value": " 1.36M/1.36M [00:00&lt;00:00, 10.0MB/s]"
          }
        },
        "3e6be9ea16ad41b889daabcec8ca4fca": {
          "model_module": "@jupyter-widgets/base",
          "model_name": "LayoutModel",
          "model_module_version": "1.2.0",
          "state": {
            "_model_module": "@jupyter-widgets/base",
            "_model_module_version": "1.2.0",
            "_model_name": "LayoutModel",
            "_view_count": null,
            "_view_module": "@jupyter-widgets/base",
            "_view_module_version": "1.2.0",
            "_view_name": "LayoutView",
            "align_content": null,
            "align_items": null,
            "align_self": null,
            "border": null,
            "bottom": null,
            "display": null,
            "flex": null,
            "flex_flow": null,
            "grid_area": null,
            "grid_auto_columns": null,
            "grid_auto_flow": null,
            "grid_auto_rows": null,
            "grid_column": null,
            "grid_gap": null,
            "grid_row": null,
            "grid_template_areas": null,
            "grid_template_columns": null,
            "grid_template_rows": null,
            "height": null,
            "justify_content": null,
            "justify_items": null,
            "left": null,
            "margin": null,
            "max_height": null,
            "max_width": null,
            "min_height": null,
            "min_width": null,
            "object_fit": null,
            "object_position": null,
            "order": null,
            "overflow": null,
            "overflow_x": null,
            "overflow_y": null,
            "padding": null,
            "right": null,
            "top": null,
            "visibility": null,
            "width": null
          }
        },
        "211d0edd536544afbba80dc4b0700cc0": {
          "model_module": "@jupyter-widgets/base",
          "model_name": "LayoutModel",
          "model_module_version": "1.2.0",
          "state": {
            "_model_module": "@jupyter-widgets/base",
            "_model_module_version": "1.2.0",
            "_model_name": "LayoutModel",
            "_view_count": null,
            "_view_module": "@jupyter-widgets/base",
            "_view_module_version": "1.2.0",
            "_view_name": "LayoutView",
            "align_content": null,
            "align_items": null,
            "align_self": null,
            "border": null,
            "bottom": null,
            "display": null,
            "flex": null,
            "flex_flow": null,
            "grid_area": null,
            "grid_auto_columns": null,
            "grid_auto_flow": null,
            "grid_auto_rows": null,
            "grid_column": null,
            "grid_gap": null,
            "grid_row": null,
            "grid_template_areas": null,
            "grid_template_columns": null,
            "grid_template_rows": null,
            "height": null,
            "justify_content": null,
            "justify_items": null,
            "left": null,
            "margin": null,
            "max_height": null,
            "max_width": null,
            "min_height": null,
            "min_width": null,
            "object_fit": null,
            "object_position": null,
            "order": null,
            "overflow": null,
            "overflow_x": null,
            "overflow_y": null,
            "padding": null,
            "right": null,
            "top": null,
            "visibility": null,
            "width": null
          }
        },
        "0b18611dad0e40b3b4c238eb543ddeb5": {
          "model_module": "@jupyter-widgets/controls",
          "model_name": "DescriptionStyleModel",
          "model_module_version": "1.5.0",
          "state": {
            "_model_module": "@jupyter-widgets/controls",
            "_model_module_version": "1.5.0",
            "_model_name": "DescriptionStyleModel",
            "_view_count": null,
            "_view_module": "@jupyter-widgets/base",
            "_view_module_version": "1.2.0",
            "_view_name": "StyleView",
            "description_width": ""
          }
        },
        "d97009e92a5046cf86d07c2ce3df2963": {
          "model_module": "@jupyter-widgets/base",
          "model_name": "LayoutModel",
          "model_module_version": "1.2.0",
          "state": {
            "_model_module": "@jupyter-widgets/base",
            "_model_module_version": "1.2.0",
            "_model_name": "LayoutModel",
            "_view_count": null,
            "_view_module": "@jupyter-widgets/base",
            "_view_module_version": "1.2.0",
            "_view_name": "LayoutView",
            "align_content": null,
            "align_items": null,
            "align_self": null,
            "border": null,
            "bottom": null,
            "display": null,
            "flex": null,
            "flex_flow": null,
            "grid_area": null,
            "grid_auto_columns": null,
            "grid_auto_flow": null,
            "grid_auto_rows": null,
            "grid_column": null,
            "grid_gap": null,
            "grid_row": null,
            "grid_template_areas": null,
            "grid_template_columns": null,
            "grid_template_rows": null,
            "height": null,
            "justify_content": null,
            "justify_items": null,
            "left": null,
            "margin": null,
            "max_height": null,
            "max_width": null,
            "min_height": null,
            "min_width": null,
            "object_fit": null,
            "object_position": null,
            "order": null,
            "overflow": null,
            "overflow_x": null,
            "overflow_y": null,
            "padding": null,
            "right": null,
            "top": null,
            "visibility": null,
            "width": null
          }
        },
        "b59bace53a2c454988305651a28626a8": {
          "model_module": "@jupyter-widgets/controls",
          "model_name": "ProgressStyleModel",
          "model_module_version": "1.5.0",
          "state": {
            "_model_module": "@jupyter-widgets/controls",
            "_model_module_version": "1.5.0",
            "_model_name": "ProgressStyleModel",
            "_view_count": null,
            "_view_module": "@jupyter-widgets/base",
            "_view_module_version": "1.2.0",
            "_view_name": "StyleView",
            "bar_color": null,
            "description_width": ""
          }
        },
        "46989a5f35f84d05a95e558ce39c3782": {
          "model_module": "@jupyter-widgets/base",
          "model_name": "LayoutModel",
          "model_module_version": "1.2.0",
          "state": {
            "_model_module": "@jupyter-widgets/base",
            "_model_module_version": "1.2.0",
            "_model_name": "LayoutModel",
            "_view_count": null,
            "_view_module": "@jupyter-widgets/base",
            "_view_module_version": "1.2.0",
            "_view_name": "LayoutView",
            "align_content": null,
            "align_items": null,
            "align_self": null,
            "border": null,
            "bottom": null,
            "display": null,
            "flex": null,
            "flex_flow": null,
            "grid_area": null,
            "grid_auto_columns": null,
            "grid_auto_flow": null,
            "grid_auto_rows": null,
            "grid_column": null,
            "grid_gap": null,
            "grid_row": null,
            "grid_template_areas": null,
            "grid_template_columns": null,
            "grid_template_rows": null,
            "height": null,
            "justify_content": null,
            "justify_items": null,
            "left": null,
            "margin": null,
            "max_height": null,
            "max_width": null,
            "min_height": null,
            "min_width": null,
            "object_fit": null,
            "object_position": null,
            "order": null,
            "overflow": null,
            "overflow_x": null,
            "overflow_y": null,
            "padding": null,
            "right": null,
            "top": null,
            "visibility": null,
            "width": null
          }
        },
        "fb30c13df33a4a6b8447f499cbbb6d13": {
          "model_module": "@jupyter-widgets/controls",
          "model_name": "DescriptionStyleModel",
          "model_module_version": "1.5.0",
          "state": {
            "_model_module": "@jupyter-widgets/controls",
            "_model_module_version": "1.5.0",
            "_model_name": "DescriptionStyleModel",
            "_view_count": null,
            "_view_module": "@jupyter-widgets/base",
            "_view_module_version": "1.2.0",
            "_view_name": "StyleView",
            "description_width": ""
          }
        },
        "d32a9e05ee37449196cf922ea9648f12": {
          "model_module": "@jupyter-widgets/controls",
          "model_name": "HBoxModel",
          "model_module_version": "1.5.0",
          "state": {
            "_dom_classes": [],
            "_model_module": "@jupyter-widgets/controls",
            "_model_module_version": "1.5.0",
            "_model_name": "HBoxModel",
            "_view_count": null,
            "_view_module": "@jupyter-widgets/controls",
            "_view_module_version": "1.5.0",
            "_view_name": "HBoxView",
            "box_style": "",
            "children": [
              "IPY_MODEL_4ef1e706328f42a8b867f6fb44380ed0",
              "IPY_MODEL_2478ef1189664a62bab98a0f76263eef",
              "IPY_MODEL_8e3b293b5b6b4f09b999525025eca917"
            ],
            "layout": "IPY_MODEL_1041d067adf84d658dbf9ff621480fdf"
          }
        },
        "4ef1e706328f42a8b867f6fb44380ed0": {
          "model_module": "@jupyter-widgets/controls",
          "model_name": "HTMLModel",
          "model_module_version": "1.5.0",
          "state": {
            "_dom_classes": [],
            "_model_module": "@jupyter-widgets/controls",
            "_model_module_version": "1.5.0",
            "_model_name": "HTMLModel",
            "_view_count": null,
            "_view_module": "@jupyter-widgets/controls",
            "_view_module_version": "1.5.0",
            "_view_name": "HTMLView",
            "description": "",
            "description_tooltip": null,
            "layout": "IPY_MODEL_f33b142fed404626925255d50865de5d",
            "placeholder": "​",
            "style": "IPY_MODEL_3d37391b4acb44358c96cf1061c8ec8b",
            "value": "config.json: 100%"
          }
        },
        "2478ef1189664a62bab98a0f76263eef": {
          "model_module": "@jupyter-widgets/controls",
          "model_name": "FloatProgressModel",
          "model_module_version": "1.5.0",
          "state": {
            "_dom_classes": [],
            "_model_module": "@jupyter-widgets/controls",
            "_model_module_version": "1.5.0",
            "_model_name": "FloatProgressModel",
            "_view_count": null,
            "_view_module": "@jupyter-widgets/controls",
            "_view_module_version": "1.5.0",
            "_view_name": "ProgressView",
            "bar_style": "success",
            "description": "",
            "description_tooltip": null,
            "layout": "IPY_MODEL_f55d8cff7b774246b75ea1f3608b3a15",
            "max": 481,
            "min": 0,
            "orientation": "horizontal",
            "style": "IPY_MODEL_57a3905eeef14b388ed00bd479887a88",
            "value": 481
          }
        },
        "8e3b293b5b6b4f09b999525025eca917": {
          "model_module": "@jupyter-widgets/controls",
          "model_name": "HTMLModel",
          "model_module_version": "1.5.0",
          "state": {
            "_dom_classes": [],
            "_model_module": "@jupyter-widgets/controls",
            "_model_module_version": "1.5.0",
            "_model_name": "HTMLModel",
            "_view_count": null,
            "_view_module": "@jupyter-widgets/controls",
            "_view_module_version": "1.5.0",
            "_view_name": "HTMLView",
            "description": "",
            "description_tooltip": null,
            "layout": "IPY_MODEL_7fadfbdfb5514781892bcd66954f4861",
            "placeholder": "​",
            "style": "IPY_MODEL_8317c5a83f424bc8ad8ba5f0bdf7dfff",
            "value": " 481/481 [00:00&lt;00:00, 31.9kB/s]"
          }
        },
        "1041d067adf84d658dbf9ff621480fdf": {
          "model_module": "@jupyter-widgets/base",
          "model_name": "LayoutModel",
          "model_module_version": "1.2.0",
          "state": {
            "_model_module": "@jupyter-widgets/base",
            "_model_module_version": "1.2.0",
            "_model_name": "LayoutModel",
            "_view_count": null,
            "_view_module": "@jupyter-widgets/base",
            "_view_module_version": "1.2.0",
            "_view_name": "LayoutView",
            "align_content": null,
            "align_items": null,
            "align_self": null,
            "border": null,
            "bottom": null,
            "display": null,
            "flex": null,
            "flex_flow": null,
            "grid_area": null,
            "grid_auto_columns": null,
            "grid_auto_flow": null,
            "grid_auto_rows": null,
            "grid_column": null,
            "grid_gap": null,
            "grid_row": null,
            "grid_template_areas": null,
            "grid_template_columns": null,
            "grid_template_rows": null,
            "height": null,
            "justify_content": null,
            "justify_items": null,
            "left": null,
            "margin": null,
            "max_height": null,
            "max_width": null,
            "min_height": null,
            "min_width": null,
            "object_fit": null,
            "object_position": null,
            "order": null,
            "overflow": null,
            "overflow_x": null,
            "overflow_y": null,
            "padding": null,
            "right": null,
            "top": null,
            "visibility": null,
            "width": null
          }
        },
        "f33b142fed404626925255d50865de5d": {
          "model_module": "@jupyter-widgets/base",
          "model_name": "LayoutModel",
          "model_module_version": "1.2.0",
          "state": {
            "_model_module": "@jupyter-widgets/base",
            "_model_module_version": "1.2.0",
            "_model_name": "LayoutModel",
            "_view_count": null,
            "_view_module": "@jupyter-widgets/base",
            "_view_module_version": "1.2.0",
            "_view_name": "LayoutView",
            "align_content": null,
            "align_items": null,
            "align_self": null,
            "border": null,
            "bottom": null,
            "display": null,
            "flex": null,
            "flex_flow": null,
            "grid_area": null,
            "grid_auto_columns": null,
            "grid_auto_flow": null,
            "grid_auto_rows": null,
            "grid_column": null,
            "grid_gap": null,
            "grid_row": null,
            "grid_template_areas": null,
            "grid_template_columns": null,
            "grid_template_rows": null,
            "height": null,
            "justify_content": null,
            "justify_items": null,
            "left": null,
            "margin": null,
            "max_height": null,
            "max_width": null,
            "min_height": null,
            "min_width": null,
            "object_fit": null,
            "object_position": null,
            "order": null,
            "overflow": null,
            "overflow_x": null,
            "overflow_y": null,
            "padding": null,
            "right": null,
            "top": null,
            "visibility": null,
            "width": null
          }
        },
        "3d37391b4acb44358c96cf1061c8ec8b": {
          "model_module": "@jupyter-widgets/controls",
          "model_name": "DescriptionStyleModel",
          "model_module_version": "1.5.0",
          "state": {
            "_model_module": "@jupyter-widgets/controls",
            "_model_module_version": "1.5.0",
            "_model_name": "DescriptionStyleModel",
            "_view_count": null,
            "_view_module": "@jupyter-widgets/base",
            "_view_module_version": "1.2.0",
            "_view_name": "StyleView",
            "description_width": ""
          }
        },
        "f55d8cff7b774246b75ea1f3608b3a15": {
          "model_module": "@jupyter-widgets/base",
          "model_name": "LayoutModel",
          "model_module_version": "1.2.0",
          "state": {
            "_model_module": "@jupyter-widgets/base",
            "_model_module_version": "1.2.0",
            "_model_name": "LayoutModel",
            "_view_count": null,
            "_view_module": "@jupyter-widgets/base",
            "_view_module_version": "1.2.0",
            "_view_name": "LayoutView",
            "align_content": null,
            "align_items": null,
            "align_self": null,
            "border": null,
            "bottom": null,
            "display": null,
            "flex": null,
            "flex_flow": null,
            "grid_area": null,
            "grid_auto_columns": null,
            "grid_auto_flow": null,
            "grid_auto_rows": null,
            "grid_column": null,
            "grid_gap": null,
            "grid_row": null,
            "grid_template_areas": null,
            "grid_template_columns": null,
            "grid_template_rows": null,
            "height": null,
            "justify_content": null,
            "justify_items": null,
            "left": null,
            "margin": null,
            "max_height": null,
            "max_width": null,
            "min_height": null,
            "min_width": null,
            "object_fit": null,
            "object_position": null,
            "order": null,
            "overflow": null,
            "overflow_x": null,
            "overflow_y": null,
            "padding": null,
            "right": null,
            "top": null,
            "visibility": null,
            "width": null
          }
        },
        "57a3905eeef14b388ed00bd479887a88": {
          "model_module": "@jupyter-widgets/controls",
          "model_name": "ProgressStyleModel",
          "model_module_version": "1.5.0",
          "state": {
            "_model_module": "@jupyter-widgets/controls",
            "_model_module_version": "1.5.0",
            "_model_name": "ProgressStyleModel",
            "_view_count": null,
            "_view_module": "@jupyter-widgets/base",
            "_view_module_version": "1.2.0",
            "_view_name": "StyleView",
            "bar_color": null,
            "description_width": ""
          }
        },
        "7fadfbdfb5514781892bcd66954f4861": {
          "model_module": "@jupyter-widgets/base",
          "model_name": "LayoutModel",
          "model_module_version": "1.2.0",
          "state": {
            "_model_module": "@jupyter-widgets/base",
            "_model_module_version": "1.2.0",
            "_model_name": "LayoutModel",
            "_view_count": null,
            "_view_module": "@jupyter-widgets/base",
            "_view_module_version": "1.2.0",
            "_view_name": "LayoutView",
            "align_content": null,
            "align_items": null,
            "align_self": null,
            "border": null,
            "bottom": null,
            "display": null,
            "flex": null,
            "flex_flow": null,
            "grid_area": null,
            "grid_auto_columns": null,
            "grid_auto_flow": null,
            "grid_auto_rows": null,
            "grid_column": null,
            "grid_gap": null,
            "grid_row": null,
            "grid_template_areas": null,
            "grid_template_columns": null,
            "grid_template_rows": null,
            "height": null,
            "justify_content": null,
            "justify_items": null,
            "left": null,
            "margin": null,
            "max_height": null,
            "max_width": null,
            "min_height": null,
            "min_width": null,
            "object_fit": null,
            "object_position": null,
            "order": null,
            "overflow": null,
            "overflow_x": null,
            "overflow_y": null,
            "padding": null,
            "right": null,
            "top": null,
            "visibility": null,
            "width": null
          }
        },
        "8317c5a83f424bc8ad8ba5f0bdf7dfff": {
          "model_module": "@jupyter-widgets/controls",
          "model_name": "DescriptionStyleModel",
          "model_module_version": "1.5.0",
          "state": {
            "_model_module": "@jupyter-widgets/controls",
            "_model_module_version": "1.5.0",
            "_model_name": "DescriptionStyleModel",
            "_view_count": null,
            "_view_module": "@jupyter-widgets/base",
            "_view_module_version": "1.2.0",
            "_view_name": "StyleView",
            "description_width": ""
          }
        },
        "367439f5dc5945329c6823df26ee62dd": {
          "model_module": "@jupyter-widgets/controls",
          "model_name": "HBoxModel",
          "model_module_version": "1.5.0",
          "state": {
            "_dom_classes": [],
            "_model_module": "@jupyter-widgets/controls",
            "_model_module_version": "1.5.0",
            "_model_name": "HBoxModel",
            "_view_count": null,
            "_view_module": "@jupyter-widgets/controls",
            "_view_module_version": "1.5.0",
            "_view_name": "HBoxView",
            "box_style": "",
            "children": [
              "IPY_MODEL_4f6982b315274d299289be1ff3444ce3",
              "IPY_MODEL_3e34c5887cf64692ad7a078d6e6599ba",
              "IPY_MODEL_9b9d28fb6bd8488da33d10868d4bff76"
            ],
            "layout": "IPY_MODEL_6ff8b8db223e46f28a19194c5df6307a"
          }
        },
        "4f6982b315274d299289be1ff3444ce3": {
          "model_module": "@jupyter-widgets/controls",
          "model_name": "HTMLModel",
          "model_module_version": "1.5.0",
          "state": {
            "_dom_classes": [],
            "_model_module": "@jupyter-widgets/controls",
            "_model_module_version": "1.5.0",
            "_model_name": "HTMLModel",
            "_view_count": null,
            "_view_module": "@jupyter-widgets/controls",
            "_view_module_version": "1.5.0",
            "_view_name": "HTMLView",
            "description": "",
            "description_tooltip": null,
            "layout": "IPY_MODEL_c0c82f4367ac4e5c81177c4409063d84",
            "placeholder": "​",
            "style": "IPY_MODEL_836b1dab71da4dbcb10da305ce13c74e",
            "value": "model.safetensors: 100%"
          }
        },
        "3e34c5887cf64692ad7a078d6e6599ba": {
          "model_module": "@jupyter-widgets/controls",
          "model_name": "FloatProgressModel",
          "model_module_version": "1.5.0",
          "state": {
            "_dom_classes": [],
            "_model_module": "@jupyter-widgets/controls",
            "_model_module_version": "1.5.0",
            "_model_name": "FloatProgressModel",
            "_view_count": null,
            "_view_module": "@jupyter-widgets/controls",
            "_view_module_version": "1.5.0",
            "_view_name": "ProgressView",
            "bar_style": "success",
            "description": "",
            "description_tooltip": null,
            "layout": "IPY_MODEL_c0dbb30724df491cbc10b2ec5d9d3d97",
            "max": 498818054,
            "min": 0,
            "orientation": "horizontal",
            "style": "IPY_MODEL_7adcba6640574cbabc3f82c4def9a28d",
            "value": 498818054
          }
        },
        "9b9d28fb6bd8488da33d10868d4bff76": {
          "model_module": "@jupyter-widgets/controls",
          "model_name": "HTMLModel",
          "model_module_version": "1.5.0",
          "state": {
            "_dom_classes": [],
            "_model_module": "@jupyter-widgets/controls",
            "_model_module_version": "1.5.0",
            "_model_name": "HTMLModel",
            "_view_count": null,
            "_view_module": "@jupyter-widgets/controls",
            "_view_module_version": "1.5.0",
            "_view_name": "HTMLView",
            "description": "",
            "description_tooltip": null,
            "layout": "IPY_MODEL_0b62dcf5c61e4714bb29e222b43d5010",
            "placeholder": "​",
            "style": "IPY_MODEL_5290679fdc8b4ea6b9537c412d5d6fcd",
            "value": " 499M/499M [00:04&lt;00:00, 138MB/s]"
          }
        },
        "6ff8b8db223e46f28a19194c5df6307a": {
          "model_module": "@jupyter-widgets/base",
          "model_name": "LayoutModel",
          "model_module_version": "1.2.0",
          "state": {
            "_model_module": "@jupyter-widgets/base",
            "_model_module_version": "1.2.0",
            "_model_name": "LayoutModel",
            "_view_count": null,
            "_view_module": "@jupyter-widgets/base",
            "_view_module_version": "1.2.0",
            "_view_name": "LayoutView",
            "align_content": null,
            "align_items": null,
            "align_self": null,
            "border": null,
            "bottom": null,
            "display": null,
            "flex": null,
            "flex_flow": null,
            "grid_area": null,
            "grid_auto_columns": null,
            "grid_auto_flow": null,
            "grid_auto_rows": null,
            "grid_column": null,
            "grid_gap": null,
            "grid_row": null,
            "grid_template_areas": null,
            "grid_template_columns": null,
            "grid_template_rows": null,
            "height": null,
            "justify_content": null,
            "justify_items": null,
            "left": null,
            "margin": null,
            "max_height": null,
            "max_width": null,
            "min_height": null,
            "min_width": null,
            "object_fit": null,
            "object_position": null,
            "order": null,
            "overflow": null,
            "overflow_x": null,
            "overflow_y": null,
            "padding": null,
            "right": null,
            "top": null,
            "visibility": null,
            "width": null
          }
        },
        "c0c82f4367ac4e5c81177c4409063d84": {
          "model_module": "@jupyter-widgets/base",
          "model_name": "LayoutModel",
          "model_module_version": "1.2.0",
          "state": {
            "_model_module": "@jupyter-widgets/base",
            "_model_module_version": "1.2.0",
            "_model_name": "LayoutModel",
            "_view_count": null,
            "_view_module": "@jupyter-widgets/base",
            "_view_module_version": "1.2.0",
            "_view_name": "LayoutView",
            "align_content": null,
            "align_items": null,
            "align_self": null,
            "border": null,
            "bottom": null,
            "display": null,
            "flex": null,
            "flex_flow": null,
            "grid_area": null,
            "grid_auto_columns": null,
            "grid_auto_flow": null,
            "grid_auto_rows": null,
            "grid_column": null,
            "grid_gap": null,
            "grid_row": null,
            "grid_template_areas": null,
            "grid_template_columns": null,
            "grid_template_rows": null,
            "height": null,
            "justify_content": null,
            "justify_items": null,
            "left": null,
            "margin": null,
            "max_height": null,
            "max_width": null,
            "min_height": null,
            "min_width": null,
            "object_fit": null,
            "object_position": null,
            "order": null,
            "overflow": null,
            "overflow_x": null,
            "overflow_y": null,
            "padding": null,
            "right": null,
            "top": null,
            "visibility": null,
            "width": null
          }
        },
        "836b1dab71da4dbcb10da305ce13c74e": {
          "model_module": "@jupyter-widgets/controls",
          "model_name": "DescriptionStyleModel",
          "model_module_version": "1.5.0",
          "state": {
            "_model_module": "@jupyter-widgets/controls",
            "_model_module_version": "1.5.0",
            "_model_name": "DescriptionStyleModel",
            "_view_count": null,
            "_view_module": "@jupyter-widgets/base",
            "_view_module_version": "1.2.0",
            "_view_name": "StyleView",
            "description_width": ""
          }
        },
        "c0dbb30724df491cbc10b2ec5d9d3d97": {
          "model_module": "@jupyter-widgets/base",
          "model_name": "LayoutModel",
          "model_module_version": "1.2.0",
          "state": {
            "_model_module": "@jupyter-widgets/base",
            "_model_module_version": "1.2.0",
            "_model_name": "LayoutModel",
            "_view_count": null,
            "_view_module": "@jupyter-widgets/base",
            "_view_module_version": "1.2.0",
            "_view_name": "LayoutView",
            "align_content": null,
            "align_items": null,
            "align_self": null,
            "border": null,
            "bottom": null,
            "display": null,
            "flex": null,
            "flex_flow": null,
            "grid_area": null,
            "grid_auto_columns": null,
            "grid_auto_flow": null,
            "grid_auto_rows": null,
            "grid_column": null,
            "grid_gap": null,
            "grid_row": null,
            "grid_template_areas": null,
            "grid_template_columns": null,
            "grid_template_rows": null,
            "height": null,
            "justify_content": null,
            "justify_items": null,
            "left": null,
            "margin": null,
            "max_height": null,
            "max_width": null,
            "min_height": null,
            "min_width": null,
            "object_fit": null,
            "object_position": null,
            "order": null,
            "overflow": null,
            "overflow_x": null,
            "overflow_y": null,
            "padding": null,
            "right": null,
            "top": null,
            "visibility": null,
            "width": null
          }
        },
        "7adcba6640574cbabc3f82c4def9a28d": {
          "model_module": "@jupyter-widgets/controls",
          "model_name": "ProgressStyleModel",
          "model_module_version": "1.5.0",
          "state": {
            "_model_module": "@jupyter-widgets/controls",
            "_model_module_version": "1.5.0",
            "_model_name": "ProgressStyleModel",
            "_view_count": null,
            "_view_module": "@jupyter-widgets/base",
            "_view_module_version": "1.2.0",
            "_view_name": "StyleView",
            "bar_color": null,
            "description_width": ""
          }
        },
        "0b62dcf5c61e4714bb29e222b43d5010": {
          "model_module": "@jupyter-widgets/base",
          "model_name": "LayoutModel",
          "model_module_version": "1.2.0",
          "state": {
            "_model_module": "@jupyter-widgets/base",
            "_model_module_version": "1.2.0",
            "_model_name": "LayoutModel",
            "_view_count": null,
            "_view_module": "@jupyter-widgets/base",
            "_view_module_version": "1.2.0",
            "_view_name": "LayoutView",
            "align_content": null,
            "align_items": null,
            "align_self": null,
            "border": null,
            "bottom": null,
            "display": null,
            "flex": null,
            "flex_flow": null,
            "grid_area": null,
            "grid_auto_columns": null,
            "grid_auto_flow": null,
            "grid_auto_rows": null,
            "grid_column": null,
            "grid_gap": null,
            "grid_row": null,
            "grid_template_areas": null,
            "grid_template_columns": null,
            "grid_template_rows": null,
            "height": null,
            "justify_content": null,
            "justify_items": null,
            "left": null,
            "margin": null,
            "max_height": null,
            "max_width": null,
            "min_height": null,
            "min_width": null,
            "object_fit": null,
            "object_position": null,
            "order": null,
            "overflow": null,
            "overflow_x": null,
            "overflow_y": null,
            "padding": null,
            "right": null,
            "top": null,
            "visibility": null,
            "width": null
          }
        },
        "5290679fdc8b4ea6b9537c412d5d6fcd": {
          "model_module": "@jupyter-widgets/controls",
          "model_name": "DescriptionStyleModel",
          "model_module_version": "1.5.0",
          "state": {
            "_model_module": "@jupyter-widgets/controls",
            "_model_module_version": "1.5.0",
            "_model_name": "DescriptionStyleModel",
            "_view_count": null,
            "_view_module": "@jupyter-widgets/base",
            "_view_module_version": "1.2.0",
            "_view_name": "StyleView",
            "description_width": ""
          }
        },
        "241c238f861b42f29e582a727514779f": {
          "model_module": "@jupyter-widgets/controls",
          "model_name": "TextareaModel",
          "model_module_version": "1.5.0",
          "state": {
            "_dom_classes": [],
            "_model_module": "@jupyter-widgets/controls",
            "_model_module_version": "1.5.0",
            "_model_name": "TextareaModel",
            "_view_count": null,
            "_view_module": "@jupyter-widgets/controls",
            "_view_module_version": "1.5.0",
            "_view_name": "TextareaView",
            "continuous_update": true,
            "description": "Review:",
            "description_tooltip": null,
            "disabled": false,
            "layout": "IPY_MODEL_18d1344c72de4952bfd7472b0fc67d37",
            "placeholder": "Type your review here",
            "rows": null,
            "style": "IPY_MODEL_859baf7786cb4085b32a994056b6d89a",
            "value": "These are super cute!"
          }
        },
        "18d1344c72de4952bfd7472b0fc67d37": {
          "model_module": "@jupyter-widgets/base",
          "model_name": "LayoutModel",
          "model_module_version": "1.2.0",
          "state": {
            "_model_module": "@jupyter-widgets/base",
            "_model_module_version": "1.2.0",
            "_model_name": "LayoutModel",
            "_view_count": null,
            "_view_module": "@jupyter-widgets/base",
            "_view_module_version": "1.2.0",
            "_view_name": "LayoutView",
            "align_content": null,
            "align_items": null,
            "align_self": null,
            "border": null,
            "bottom": null,
            "display": null,
            "flex": null,
            "flex_flow": null,
            "grid_area": null,
            "grid_auto_columns": null,
            "grid_auto_flow": null,
            "grid_auto_rows": null,
            "grid_column": null,
            "grid_gap": null,
            "grid_row": null,
            "grid_template_areas": null,
            "grid_template_columns": null,
            "grid_template_rows": null,
            "height": "150px",
            "justify_content": null,
            "justify_items": null,
            "left": null,
            "margin": null,
            "max_height": null,
            "max_width": null,
            "min_height": null,
            "min_width": null,
            "object_fit": null,
            "object_position": null,
            "order": null,
            "overflow": null,
            "overflow_x": null,
            "overflow_y": null,
            "padding": null,
            "right": null,
            "top": null,
            "visibility": null,
            "width": "80%"
          }
        },
        "859baf7786cb4085b32a994056b6d89a": {
          "model_module": "@jupyter-widgets/controls",
          "model_name": "DescriptionStyleModel",
          "model_module_version": "1.5.0",
          "state": {
            "_model_module": "@jupyter-widgets/controls",
            "_model_module_version": "1.5.0",
            "_model_name": "DescriptionStyleModel",
            "_view_count": null,
            "_view_module": "@jupyter-widgets/base",
            "_view_module_version": "1.2.0",
            "_view_name": "StyleView",
            "description_width": ""
          }
        },
        "988c23f8e9794560847a2ef318a21eda": {
          "model_module": "@jupyter-widgets/controls",
          "model_name": "ButtonModel",
          "model_module_version": "1.5.0",
          "state": {
            "_dom_classes": [],
            "_model_module": "@jupyter-widgets/controls",
            "_model_module_version": "1.5.0",
            "_model_name": "ButtonModel",
            "_view_count": null,
            "_view_module": "@jupyter-widgets/controls",
            "_view_module_version": "1.5.0",
            "_view_name": "ButtonView",
            "button_style": "",
            "description": "Predict",
            "disabled": false,
            "icon": "",
            "layout": "IPY_MODEL_1786bd9fa6184a3a96f1e05ec9b7b686",
            "style": "IPY_MODEL_4c950f593c314dc99779557c0137b27a",
            "tooltip": ""
          }
        },
        "1786bd9fa6184a3a96f1e05ec9b7b686": {
          "model_module": "@jupyter-widgets/base",
          "model_name": "LayoutModel",
          "model_module_version": "1.2.0",
          "state": {
            "_model_module": "@jupyter-widgets/base",
            "_model_module_version": "1.2.0",
            "_model_name": "LayoutModel",
            "_view_count": null,
            "_view_module": "@jupyter-widgets/base",
            "_view_module_version": "1.2.0",
            "_view_name": "LayoutView",
            "align_content": null,
            "align_items": null,
            "align_self": null,
            "border": null,
            "bottom": null,
            "display": null,
            "flex": null,
            "flex_flow": null,
            "grid_area": null,
            "grid_auto_columns": null,
            "grid_auto_flow": null,
            "grid_auto_rows": null,
            "grid_column": null,
            "grid_gap": null,
            "grid_row": null,
            "grid_template_areas": null,
            "grid_template_columns": null,
            "grid_template_rows": null,
            "height": null,
            "justify_content": null,
            "justify_items": null,
            "left": null,
            "margin": null,
            "max_height": null,
            "max_width": null,
            "min_height": null,
            "min_width": null,
            "object_fit": null,
            "object_position": null,
            "order": null,
            "overflow": null,
            "overflow_x": null,
            "overflow_y": null,
            "padding": null,
            "right": null,
            "top": null,
            "visibility": null,
            "width": null
          }
        },
        "4c950f593c314dc99779557c0137b27a": {
          "model_module": "@jupyter-widgets/controls",
          "model_name": "ButtonStyleModel",
          "model_module_version": "1.5.0",
          "state": {
            "_model_module": "@jupyter-widgets/controls",
            "_model_module_version": "1.5.0",
            "_model_name": "ButtonStyleModel",
            "_view_count": null,
            "_view_module": "@jupyter-widgets/base",
            "_view_module_version": "1.2.0",
            "_view_name": "StyleView",
            "button_color": null,
            "font_weight": ""
          }
        },
        "7aafc380fd704568803591f541c69bed": {
          "model_module": "@jupyter-widgets/controls",
          "model_name": "HBoxModel",
          "model_module_version": "1.5.0",
          "state": {
            "_dom_classes": [],
            "_model_module": "@jupyter-widgets/controls",
            "_model_module_version": "1.5.0",
            "_model_name": "HBoxModel",
            "_view_count": null,
            "_view_module": "@jupyter-widgets/controls",
            "_view_module_version": "1.5.0",
            "_view_name": "HBoxView",
            "box_style": "",
            "children": [
              "IPY_MODEL_70c862e0a16144ef86c57aae8e923a54",
              "IPY_MODEL_ac916d5cbd364b5b87055ab30d786d1b",
              "IPY_MODEL_540f362dc4a14ea8b211f32f8cc7b29f"
            ],
            "layout": "IPY_MODEL_3998443fd1524c0f82c4ec3f44efb3ab"
          }
        },
        "70c862e0a16144ef86c57aae8e923a54": {
          "model_module": "@jupyter-widgets/controls",
          "model_name": "HTMLModel",
          "model_module_version": "1.5.0",
          "state": {
            "_dom_classes": [],
            "_model_module": "@jupyter-widgets/controls",
            "_model_module_version": "1.5.0",
            "_model_name": "HTMLModel",
            "_view_count": null,
            "_view_module": "@jupyter-widgets/controls",
            "_view_module_version": "1.5.0",
            "_view_name": "HTMLView",
            "description": "",
            "description_tooltip": null,
            "layout": "IPY_MODEL_bc7b70032867419f93f582bcceb1e564",
            "placeholder": "​",
            "style": "IPY_MODEL_ae8870ef387a4618934f3a1476ac11fd",
            "value": "tokenizer_config.json: 100%"
          }
        },
        "ac916d5cbd364b5b87055ab30d786d1b": {
          "model_module": "@jupyter-widgets/controls",
          "model_name": "FloatProgressModel",
          "model_module_version": "1.5.0",
          "state": {
            "_dom_classes": [],
            "_model_module": "@jupyter-widgets/controls",
            "_model_module_version": "1.5.0",
            "_model_name": "FloatProgressModel",
            "_view_count": null,
            "_view_module": "@jupyter-widgets/controls",
            "_view_module_version": "1.5.0",
            "_view_name": "ProgressView",
            "bar_style": "success",
            "description": "",
            "description_tooltip": null,
            "layout": "IPY_MODEL_9ebeb23ebe674cc3bbc63fcd0256dc07",
            "max": 48,
            "min": 0,
            "orientation": "horizontal",
            "style": "IPY_MODEL_b5d8cb6780824e9eb51a21a26799be1d",
            "value": 48
          }
        },
        "540f362dc4a14ea8b211f32f8cc7b29f": {
          "model_module": "@jupyter-widgets/controls",
          "model_name": "HTMLModel",
          "model_module_version": "1.5.0",
          "state": {
            "_dom_classes": [],
            "_model_module": "@jupyter-widgets/controls",
            "_model_module_version": "1.5.0",
            "_model_name": "HTMLModel",
            "_view_count": null,
            "_view_module": "@jupyter-widgets/controls",
            "_view_module_version": "1.5.0",
            "_view_name": "HTMLView",
            "description": "",
            "description_tooltip": null,
            "layout": "IPY_MODEL_5802a08628e44dd088c947e9301ede97",
            "placeholder": "​",
            "style": "IPY_MODEL_b0e3949986ea417fb58c62a34a2f33b7",
            "value": " 48.0/48.0 [00:00&lt;00:00, 1.51kB/s]"
          }
        },
        "3998443fd1524c0f82c4ec3f44efb3ab": {
          "model_module": "@jupyter-widgets/base",
          "model_name": "LayoutModel",
          "model_module_version": "1.2.0",
          "state": {
            "_model_module": "@jupyter-widgets/base",
            "_model_module_version": "1.2.0",
            "_model_name": "LayoutModel",
            "_view_count": null,
            "_view_module": "@jupyter-widgets/base",
            "_view_module_version": "1.2.0",
            "_view_name": "LayoutView",
            "align_content": null,
            "align_items": null,
            "align_self": null,
            "border": null,
            "bottom": null,
            "display": null,
            "flex": null,
            "flex_flow": null,
            "grid_area": null,
            "grid_auto_columns": null,
            "grid_auto_flow": null,
            "grid_auto_rows": null,
            "grid_column": null,
            "grid_gap": null,
            "grid_row": null,
            "grid_template_areas": null,
            "grid_template_columns": null,
            "grid_template_rows": null,
            "height": null,
            "justify_content": null,
            "justify_items": null,
            "left": null,
            "margin": null,
            "max_height": null,
            "max_width": null,
            "min_height": null,
            "min_width": null,
            "object_fit": null,
            "object_position": null,
            "order": null,
            "overflow": null,
            "overflow_x": null,
            "overflow_y": null,
            "padding": null,
            "right": null,
            "top": null,
            "visibility": null,
            "width": null
          }
        },
        "bc7b70032867419f93f582bcceb1e564": {
          "model_module": "@jupyter-widgets/base",
          "model_name": "LayoutModel",
          "model_module_version": "1.2.0",
          "state": {
            "_model_module": "@jupyter-widgets/base",
            "_model_module_version": "1.2.0",
            "_model_name": "LayoutModel",
            "_view_count": null,
            "_view_module": "@jupyter-widgets/base",
            "_view_module_version": "1.2.0",
            "_view_name": "LayoutView",
            "align_content": null,
            "align_items": null,
            "align_self": null,
            "border": null,
            "bottom": null,
            "display": null,
            "flex": null,
            "flex_flow": null,
            "grid_area": null,
            "grid_auto_columns": null,
            "grid_auto_flow": null,
            "grid_auto_rows": null,
            "grid_column": null,
            "grid_gap": null,
            "grid_row": null,
            "grid_template_areas": null,
            "grid_template_columns": null,
            "grid_template_rows": null,
            "height": null,
            "justify_content": null,
            "justify_items": null,
            "left": null,
            "margin": null,
            "max_height": null,
            "max_width": null,
            "min_height": null,
            "min_width": null,
            "object_fit": null,
            "object_position": null,
            "order": null,
            "overflow": null,
            "overflow_x": null,
            "overflow_y": null,
            "padding": null,
            "right": null,
            "top": null,
            "visibility": null,
            "width": null
          }
        },
        "ae8870ef387a4618934f3a1476ac11fd": {
          "model_module": "@jupyter-widgets/controls",
          "model_name": "DescriptionStyleModel",
          "model_module_version": "1.5.0",
          "state": {
            "_model_module": "@jupyter-widgets/controls",
            "_model_module_version": "1.5.0",
            "_model_name": "DescriptionStyleModel",
            "_view_count": null,
            "_view_module": "@jupyter-widgets/base",
            "_view_module_version": "1.2.0",
            "_view_name": "StyleView",
            "description_width": ""
          }
        },
        "9ebeb23ebe674cc3bbc63fcd0256dc07": {
          "model_module": "@jupyter-widgets/base",
          "model_name": "LayoutModel",
          "model_module_version": "1.2.0",
          "state": {
            "_model_module": "@jupyter-widgets/base",
            "_model_module_version": "1.2.0",
            "_model_name": "LayoutModel",
            "_view_count": null,
            "_view_module": "@jupyter-widgets/base",
            "_view_module_version": "1.2.0",
            "_view_name": "LayoutView",
            "align_content": null,
            "align_items": null,
            "align_self": null,
            "border": null,
            "bottom": null,
            "display": null,
            "flex": null,
            "flex_flow": null,
            "grid_area": null,
            "grid_auto_columns": null,
            "grid_auto_flow": null,
            "grid_auto_rows": null,
            "grid_column": null,
            "grid_gap": null,
            "grid_row": null,
            "grid_template_areas": null,
            "grid_template_columns": null,
            "grid_template_rows": null,
            "height": null,
            "justify_content": null,
            "justify_items": null,
            "left": null,
            "margin": null,
            "max_height": null,
            "max_width": null,
            "min_height": null,
            "min_width": null,
            "object_fit": null,
            "object_position": null,
            "order": null,
            "overflow": null,
            "overflow_x": null,
            "overflow_y": null,
            "padding": null,
            "right": null,
            "top": null,
            "visibility": null,
            "width": null
          }
        },
        "b5d8cb6780824e9eb51a21a26799be1d": {
          "model_module": "@jupyter-widgets/controls",
          "model_name": "ProgressStyleModel",
          "model_module_version": "1.5.0",
          "state": {
            "_model_module": "@jupyter-widgets/controls",
            "_model_module_version": "1.5.0",
            "_model_name": "ProgressStyleModel",
            "_view_count": null,
            "_view_module": "@jupyter-widgets/base",
            "_view_module_version": "1.2.0",
            "_view_name": "StyleView",
            "bar_color": null,
            "description_width": ""
          }
        },
        "5802a08628e44dd088c947e9301ede97": {
          "model_module": "@jupyter-widgets/base",
          "model_name": "LayoutModel",
          "model_module_version": "1.2.0",
          "state": {
            "_model_module": "@jupyter-widgets/base",
            "_model_module_version": "1.2.0",
            "_model_name": "LayoutModel",
            "_view_count": null,
            "_view_module": "@jupyter-widgets/base",
            "_view_module_version": "1.2.0",
            "_view_name": "LayoutView",
            "align_content": null,
            "align_items": null,
            "align_self": null,
            "border": null,
            "bottom": null,
            "display": null,
            "flex": null,
            "flex_flow": null,
            "grid_area": null,
            "grid_auto_columns": null,
            "grid_auto_flow": null,
            "grid_auto_rows": null,
            "grid_column": null,
            "grid_gap": null,
            "grid_row": null,
            "grid_template_areas": null,
            "grid_template_columns": null,
            "grid_template_rows": null,
            "height": null,
            "justify_content": null,
            "justify_items": null,
            "left": null,
            "margin": null,
            "max_height": null,
            "max_width": null,
            "min_height": null,
            "min_width": null,
            "object_fit": null,
            "object_position": null,
            "order": null,
            "overflow": null,
            "overflow_x": null,
            "overflow_y": null,
            "padding": null,
            "right": null,
            "top": null,
            "visibility": null,
            "width": null
          }
        },
        "b0e3949986ea417fb58c62a34a2f33b7": {
          "model_module": "@jupyter-widgets/controls",
          "model_name": "DescriptionStyleModel",
          "model_module_version": "1.5.0",
          "state": {
            "_model_module": "@jupyter-widgets/controls",
            "_model_module_version": "1.5.0",
            "_model_name": "DescriptionStyleModel",
            "_view_count": null,
            "_view_module": "@jupyter-widgets/base",
            "_view_module_version": "1.2.0",
            "_view_name": "StyleView",
            "description_width": ""
          }
        },
        "d68337aea6454f71889d611e5cf94f0e": {
          "model_module": "@jupyter-widgets/controls",
          "model_name": "HBoxModel",
          "model_module_version": "1.5.0",
          "state": {
            "_dom_classes": [],
            "_model_module": "@jupyter-widgets/controls",
            "_model_module_version": "1.5.0",
            "_model_name": "HBoxModel",
            "_view_count": null,
            "_view_module": "@jupyter-widgets/controls",
            "_view_module_version": "1.5.0",
            "_view_name": "HBoxView",
            "box_style": "",
            "children": [
              "IPY_MODEL_6727d2d8ccae43c99000549019d1cb4e",
              "IPY_MODEL_3a629e79448043ef9364c9a25e8437f2",
              "IPY_MODEL_26786513bd0948138542c7aebaaa9ca9"
            ],
            "layout": "IPY_MODEL_46c621e77c0d436381f41ca6f8ece9b0"
          }
        },
        "6727d2d8ccae43c99000549019d1cb4e": {
          "model_module": "@jupyter-widgets/controls",
          "model_name": "HTMLModel",
          "model_module_version": "1.5.0",
          "state": {
            "_dom_classes": [],
            "_model_module": "@jupyter-widgets/controls",
            "_model_module_version": "1.5.0",
            "_model_name": "HTMLModel",
            "_view_count": null,
            "_view_module": "@jupyter-widgets/controls",
            "_view_module_version": "1.5.0",
            "_view_name": "HTMLView",
            "description": "",
            "description_tooltip": null,
            "layout": "IPY_MODEL_779d0ade5ffa4cb089713a071e7a0087",
            "placeholder": "​",
            "style": "IPY_MODEL_74b06dd2bb3c4e1396ec122a21d2217b",
            "value": "vocab.txt: 100%"
          }
        },
        "3a629e79448043ef9364c9a25e8437f2": {
          "model_module": "@jupyter-widgets/controls",
          "model_name": "FloatProgressModel",
          "model_module_version": "1.5.0",
          "state": {
            "_dom_classes": [],
            "_model_module": "@jupyter-widgets/controls",
            "_model_module_version": "1.5.0",
            "_model_name": "FloatProgressModel",
            "_view_count": null,
            "_view_module": "@jupyter-widgets/controls",
            "_view_module_version": "1.5.0",
            "_view_name": "ProgressView",
            "bar_style": "success",
            "description": "",
            "description_tooltip": null,
            "layout": "IPY_MODEL_87ba1e1f3b5b4581a775e71255b69dea",
            "max": 231508,
            "min": 0,
            "orientation": "horizontal",
            "style": "IPY_MODEL_9ac1f526c18348638b4caff4fb285d86",
            "value": 231508
          }
        },
        "26786513bd0948138542c7aebaaa9ca9": {
          "model_module": "@jupyter-widgets/controls",
          "model_name": "HTMLModel",
          "model_module_version": "1.5.0",
          "state": {
            "_dom_classes": [],
            "_model_module": "@jupyter-widgets/controls",
            "_model_module_version": "1.5.0",
            "_model_name": "HTMLModel",
            "_view_count": null,
            "_view_module": "@jupyter-widgets/controls",
            "_view_module_version": "1.5.0",
            "_view_name": "HTMLView",
            "description": "",
            "description_tooltip": null,
            "layout": "IPY_MODEL_586caf3092d94d5d892b7bf0e50308d0",
            "placeholder": "​",
            "style": "IPY_MODEL_e231c88ec38a4ce886be40f4a81f5243",
            "value": " 232k/232k [00:00&lt;00:00, 3.04MB/s]"
          }
        },
        "46c621e77c0d436381f41ca6f8ece9b0": {
          "model_module": "@jupyter-widgets/base",
          "model_name": "LayoutModel",
          "model_module_version": "1.2.0",
          "state": {
            "_model_module": "@jupyter-widgets/base",
            "_model_module_version": "1.2.0",
            "_model_name": "LayoutModel",
            "_view_count": null,
            "_view_module": "@jupyter-widgets/base",
            "_view_module_version": "1.2.0",
            "_view_name": "LayoutView",
            "align_content": null,
            "align_items": null,
            "align_self": null,
            "border": null,
            "bottom": null,
            "display": null,
            "flex": null,
            "flex_flow": null,
            "grid_area": null,
            "grid_auto_columns": null,
            "grid_auto_flow": null,
            "grid_auto_rows": null,
            "grid_column": null,
            "grid_gap": null,
            "grid_row": null,
            "grid_template_areas": null,
            "grid_template_columns": null,
            "grid_template_rows": null,
            "height": null,
            "justify_content": null,
            "justify_items": null,
            "left": null,
            "margin": null,
            "max_height": null,
            "max_width": null,
            "min_height": null,
            "min_width": null,
            "object_fit": null,
            "object_position": null,
            "order": null,
            "overflow": null,
            "overflow_x": null,
            "overflow_y": null,
            "padding": null,
            "right": null,
            "top": null,
            "visibility": null,
            "width": null
          }
        },
        "779d0ade5ffa4cb089713a071e7a0087": {
          "model_module": "@jupyter-widgets/base",
          "model_name": "LayoutModel",
          "model_module_version": "1.2.0",
          "state": {
            "_model_module": "@jupyter-widgets/base",
            "_model_module_version": "1.2.0",
            "_model_name": "LayoutModel",
            "_view_count": null,
            "_view_module": "@jupyter-widgets/base",
            "_view_module_version": "1.2.0",
            "_view_name": "LayoutView",
            "align_content": null,
            "align_items": null,
            "align_self": null,
            "border": null,
            "bottom": null,
            "display": null,
            "flex": null,
            "flex_flow": null,
            "grid_area": null,
            "grid_auto_columns": null,
            "grid_auto_flow": null,
            "grid_auto_rows": null,
            "grid_column": null,
            "grid_gap": null,
            "grid_row": null,
            "grid_template_areas": null,
            "grid_template_columns": null,
            "grid_template_rows": null,
            "height": null,
            "justify_content": null,
            "justify_items": null,
            "left": null,
            "margin": null,
            "max_height": null,
            "max_width": null,
            "min_height": null,
            "min_width": null,
            "object_fit": null,
            "object_position": null,
            "order": null,
            "overflow": null,
            "overflow_x": null,
            "overflow_y": null,
            "padding": null,
            "right": null,
            "top": null,
            "visibility": null,
            "width": null
          }
        },
        "74b06dd2bb3c4e1396ec122a21d2217b": {
          "model_module": "@jupyter-widgets/controls",
          "model_name": "DescriptionStyleModel",
          "model_module_version": "1.5.0",
          "state": {
            "_model_module": "@jupyter-widgets/controls",
            "_model_module_version": "1.5.0",
            "_model_name": "DescriptionStyleModel",
            "_view_count": null,
            "_view_module": "@jupyter-widgets/base",
            "_view_module_version": "1.2.0",
            "_view_name": "StyleView",
            "description_width": ""
          }
        },
        "87ba1e1f3b5b4581a775e71255b69dea": {
          "model_module": "@jupyter-widgets/base",
          "model_name": "LayoutModel",
          "model_module_version": "1.2.0",
          "state": {
            "_model_module": "@jupyter-widgets/base",
            "_model_module_version": "1.2.0",
            "_model_name": "LayoutModel",
            "_view_count": null,
            "_view_module": "@jupyter-widgets/base",
            "_view_module_version": "1.2.0",
            "_view_name": "LayoutView",
            "align_content": null,
            "align_items": null,
            "align_self": null,
            "border": null,
            "bottom": null,
            "display": null,
            "flex": null,
            "flex_flow": null,
            "grid_area": null,
            "grid_auto_columns": null,
            "grid_auto_flow": null,
            "grid_auto_rows": null,
            "grid_column": null,
            "grid_gap": null,
            "grid_row": null,
            "grid_template_areas": null,
            "grid_template_columns": null,
            "grid_template_rows": null,
            "height": null,
            "justify_content": null,
            "justify_items": null,
            "left": null,
            "margin": null,
            "max_height": null,
            "max_width": null,
            "min_height": null,
            "min_width": null,
            "object_fit": null,
            "object_position": null,
            "order": null,
            "overflow": null,
            "overflow_x": null,
            "overflow_y": null,
            "padding": null,
            "right": null,
            "top": null,
            "visibility": null,
            "width": null
          }
        },
        "9ac1f526c18348638b4caff4fb285d86": {
          "model_module": "@jupyter-widgets/controls",
          "model_name": "ProgressStyleModel",
          "model_module_version": "1.5.0",
          "state": {
            "_model_module": "@jupyter-widgets/controls",
            "_model_module_version": "1.5.0",
            "_model_name": "ProgressStyleModel",
            "_view_count": null,
            "_view_module": "@jupyter-widgets/base",
            "_view_module_version": "1.2.0",
            "_view_name": "StyleView",
            "bar_color": null,
            "description_width": ""
          }
        },
        "586caf3092d94d5d892b7bf0e50308d0": {
          "model_module": "@jupyter-widgets/base",
          "model_name": "LayoutModel",
          "model_module_version": "1.2.0",
          "state": {
            "_model_module": "@jupyter-widgets/base",
            "_model_module_version": "1.2.0",
            "_model_name": "LayoutModel",
            "_view_count": null,
            "_view_module": "@jupyter-widgets/base",
            "_view_module_version": "1.2.0",
            "_view_name": "LayoutView",
            "align_content": null,
            "align_items": null,
            "align_self": null,
            "border": null,
            "bottom": null,
            "display": null,
            "flex": null,
            "flex_flow": null,
            "grid_area": null,
            "grid_auto_columns": null,
            "grid_auto_flow": null,
            "grid_auto_rows": null,
            "grid_column": null,
            "grid_gap": null,
            "grid_row": null,
            "grid_template_areas": null,
            "grid_template_columns": null,
            "grid_template_rows": null,
            "height": null,
            "justify_content": null,
            "justify_items": null,
            "left": null,
            "margin": null,
            "max_height": null,
            "max_width": null,
            "min_height": null,
            "min_width": null,
            "object_fit": null,
            "object_position": null,
            "order": null,
            "overflow": null,
            "overflow_x": null,
            "overflow_y": null,
            "padding": null,
            "right": null,
            "top": null,
            "visibility": null,
            "width": null
          }
        },
        "e231c88ec38a4ce886be40f4a81f5243": {
          "model_module": "@jupyter-widgets/controls",
          "model_name": "DescriptionStyleModel",
          "model_module_version": "1.5.0",
          "state": {
            "_model_module": "@jupyter-widgets/controls",
            "_model_module_version": "1.5.0",
            "_model_name": "DescriptionStyleModel",
            "_view_count": null,
            "_view_module": "@jupyter-widgets/base",
            "_view_module_version": "1.2.0",
            "_view_name": "StyleView",
            "description_width": ""
          }
        },
        "e35679625be84865b8dc340e71ed4e58": {
          "model_module": "@jupyter-widgets/controls",
          "model_name": "HBoxModel",
          "model_module_version": "1.5.0",
          "state": {
            "_dom_classes": [],
            "_model_module": "@jupyter-widgets/controls",
            "_model_module_version": "1.5.0",
            "_model_name": "HBoxModel",
            "_view_count": null,
            "_view_module": "@jupyter-widgets/controls",
            "_view_module_version": "1.5.0",
            "_view_name": "HBoxView",
            "box_style": "",
            "children": [
              "IPY_MODEL_ae8db656b11a40f4bf8bd974cdd88a4e",
              "IPY_MODEL_98f1e5c3c881498f962a1f3b3874d48b",
              "IPY_MODEL_ab7869cc7535415ca86c412161965a63"
            ],
            "layout": "IPY_MODEL_eb01ecdfbf9d49b1b3b18bf53d8657de"
          }
        },
        "ae8db656b11a40f4bf8bd974cdd88a4e": {
          "model_module": "@jupyter-widgets/controls",
          "model_name": "HTMLModel",
          "model_module_version": "1.5.0",
          "state": {
            "_dom_classes": [],
            "_model_module": "@jupyter-widgets/controls",
            "_model_module_version": "1.5.0",
            "_model_name": "HTMLModel",
            "_view_count": null,
            "_view_module": "@jupyter-widgets/controls",
            "_view_module_version": "1.5.0",
            "_view_name": "HTMLView",
            "description": "",
            "description_tooltip": null,
            "layout": "IPY_MODEL_0e299ab053fb42c0aa132e315bf83fe7",
            "placeholder": "​",
            "style": "IPY_MODEL_f9c64d2e86bb47d89127a5296a4570db",
            "value": "tokenizer.json: 100%"
          }
        },
        "98f1e5c3c881498f962a1f3b3874d48b": {
          "model_module": "@jupyter-widgets/controls",
          "model_name": "FloatProgressModel",
          "model_module_version": "1.5.0",
          "state": {
            "_dom_classes": [],
            "_model_module": "@jupyter-widgets/controls",
            "_model_module_version": "1.5.0",
            "_model_name": "FloatProgressModel",
            "_view_count": null,
            "_view_module": "@jupyter-widgets/controls",
            "_view_module_version": "1.5.0",
            "_view_name": "ProgressView",
            "bar_style": "success",
            "description": "",
            "description_tooltip": null,
            "layout": "IPY_MODEL_d7bfadde501e4ed9916def8653667df9",
            "max": 466062,
            "min": 0,
            "orientation": "horizontal",
            "style": "IPY_MODEL_da97fa376e2448cca31e8f19ba81f28f",
            "value": 466062
          }
        },
        "ab7869cc7535415ca86c412161965a63": {
          "model_module": "@jupyter-widgets/controls",
          "model_name": "HTMLModel",
          "model_module_version": "1.5.0",
          "state": {
            "_dom_classes": [],
            "_model_module": "@jupyter-widgets/controls",
            "_model_module_version": "1.5.0",
            "_model_name": "HTMLModel",
            "_view_count": null,
            "_view_module": "@jupyter-widgets/controls",
            "_view_module_version": "1.5.0",
            "_view_name": "HTMLView",
            "description": "",
            "description_tooltip": null,
            "layout": "IPY_MODEL_91b87b95c3da455587f82ea03e391890",
            "placeholder": "​",
            "style": "IPY_MODEL_b5b6b0dd2bfa4067bb741c52b0dfb06a",
            "value": " 466k/466k [00:00&lt;00:00, 3.68MB/s]"
          }
        },
        "eb01ecdfbf9d49b1b3b18bf53d8657de": {
          "model_module": "@jupyter-widgets/base",
          "model_name": "LayoutModel",
          "model_module_version": "1.2.0",
          "state": {
            "_model_module": "@jupyter-widgets/base",
            "_model_module_version": "1.2.0",
            "_model_name": "LayoutModel",
            "_view_count": null,
            "_view_module": "@jupyter-widgets/base",
            "_view_module_version": "1.2.0",
            "_view_name": "LayoutView",
            "align_content": null,
            "align_items": null,
            "align_self": null,
            "border": null,
            "bottom": null,
            "display": null,
            "flex": null,
            "flex_flow": null,
            "grid_area": null,
            "grid_auto_columns": null,
            "grid_auto_flow": null,
            "grid_auto_rows": null,
            "grid_column": null,
            "grid_gap": null,
            "grid_row": null,
            "grid_template_areas": null,
            "grid_template_columns": null,
            "grid_template_rows": null,
            "height": null,
            "justify_content": null,
            "justify_items": null,
            "left": null,
            "margin": null,
            "max_height": null,
            "max_width": null,
            "min_height": null,
            "min_width": null,
            "object_fit": null,
            "object_position": null,
            "order": null,
            "overflow": null,
            "overflow_x": null,
            "overflow_y": null,
            "padding": null,
            "right": null,
            "top": null,
            "visibility": null,
            "width": null
          }
        },
        "0e299ab053fb42c0aa132e315bf83fe7": {
          "model_module": "@jupyter-widgets/base",
          "model_name": "LayoutModel",
          "model_module_version": "1.2.0",
          "state": {
            "_model_module": "@jupyter-widgets/base",
            "_model_module_version": "1.2.0",
            "_model_name": "LayoutModel",
            "_view_count": null,
            "_view_module": "@jupyter-widgets/base",
            "_view_module_version": "1.2.0",
            "_view_name": "LayoutView",
            "align_content": null,
            "align_items": null,
            "align_self": null,
            "border": null,
            "bottom": null,
            "display": null,
            "flex": null,
            "flex_flow": null,
            "grid_area": null,
            "grid_auto_columns": null,
            "grid_auto_flow": null,
            "grid_auto_rows": null,
            "grid_column": null,
            "grid_gap": null,
            "grid_row": null,
            "grid_template_areas": null,
            "grid_template_columns": null,
            "grid_template_rows": null,
            "height": null,
            "justify_content": null,
            "justify_items": null,
            "left": null,
            "margin": null,
            "max_height": null,
            "max_width": null,
            "min_height": null,
            "min_width": null,
            "object_fit": null,
            "object_position": null,
            "order": null,
            "overflow": null,
            "overflow_x": null,
            "overflow_y": null,
            "padding": null,
            "right": null,
            "top": null,
            "visibility": null,
            "width": null
          }
        },
        "f9c64d2e86bb47d89127a5296a4570db": {
          "model_module": "@jupyter-widgets/controls",
          "model_name": "DescriptionStyleModel",
          "model_module_version": "1.5.0",
          "state": {
            "_model_module": "@jupyter-widgets/controls",
            "_model_module_version": "1.5.0",
            "_model_name": "DescriptionStyleModel",
            "_view_count": null,
            "_view_module": "@jupyter-widgets/base",
            "_view_module_version": "1.2.0",
            "_view_name": "StyleView",
            "description_width": ""
          }
        },
        "d7bfadde501e4ed9916def8653667df9": {
          "model_module": "@jupyter-widgets/base",
          "model_name": "LayoutModel",
          "model_module_version": "1.2.0",
          "state": {
            "_model_module": "@jupyter-widgets/base",
            "_model_module_version": "1.2.0",
            "_model_name": "LayoutModel",
            "_view_count": null,
            "_view_module": "@jupyter-widgets/base",
            "_view_module_version": "1.2.0",
            "_view_name": "LayoutView",
            "align_content": null,
            "align_items": null,
            "align_self": null,
            "border": null,
            "bottom": null,
            "display": null,
            "flex": null,
            "flex_flow": null,
            "grid_area": null,
            "grid_auto_columns": null,
            "grid_auto_flow": null,
            "grid_auto_rows": null,
            "grid_column": null,
            "grid_gap": null,
            "grid_row": null,
            "grid_template_areas": null,
            "grid_template_columns": null,
            "grid_template_rows": null,
            "height": null,
            "justify_content": null,
            "justify_items": null,
            "left": null,
            "margin": null,
            "max_height": null,
            "max_width": null,
            "min_height": null,
            "min_width": null,
            "object_fit": null,
            "object_position": null,
            "order": null,
            "overflow": null,
            "overflow_x": null,
            "overflow_y": null,
            "padding": null,
            "right": null,
            "top": null,
            "visibility": null,
            "width": null
          }
        },
        "da97fa376e2448cca31e8f19ba81f28f": {
          "model_module": "@jupyter-widgets/controls",
          "model_name": "ProgressStyleModel",
          "model_module_version": "1.5.0",
          "state": {
            "_model_module": "@jupyter-widgets/controls",
            "_model_module_version": "1.5.0",
            "_model_name": "ProgressStyleModel",
            "_view_count": null,
            "_view_module": "@jupyter-widgets/base",
            "_view_module_version": "1.2.0",
            "_view_name": "StyleView",
            "bar_color": null,
            "description_width": ""
          }
        },
        "91b87b95c3da455587f82ea03e391890": {
          "model_module": "@jupyter-widgets/base",
          "model_name": "LayoutModel",
          "model_module_version": "1.2.0",
          "state": {
            "_model_module": "@jupyter-widgets/base",
            "_model_module_version": "1.2.0",
            "_model_name": "LayoutModel",
            "_view_count": null,
            "_view_module": "@jupyter-widgets/base",
            "_view_module_version": "1.2.0",
            "_view_name": "LayoutView",
            "align_content": null,
            "align_items": null,
            "align_self": null,
            "border": null,
            "bottom": null,
            "display": null,
            "flex": null,
            "flex_flow": null,
            "grid_area": null,
            "grid_auto_columns": null,
            "grid_auto_flow": null,
            "grid_auto_rows": null,
            "grid_column": null,
            "grid_gap": null,
            "grid_row": null,
            "grid_template_areas": null,
            "grid_template_columns": null,
            "grid_template_rows": null,
            "height": null,
            "justify_content": null,
            "justify_items": null,
            "left": null,
            "margin": null,
            "max_height": null,
            "max_width": null,
            "min_height": null,
            "min_width": null,
            "object_fit": null,
            "object_position": null,
            "order": null,
            "overflow": null,
            "overflow_x": null,
            "overflow_y": null,
            "padding": null,
            "right": null,
            "top": null,
            "visibility": null,
            "width": null
          }
        },
        "b5b6b0dd2bfa4067bb741c52b0dfb06a": {
          "model_module": "@jupyter-widgets/controls",
          "model_name": "DescriptionStyleModel",
          "model_module_version": "1.5.0",
          "state": {
            "_model_module": "@jupyter-widgets/controls",
            "_model_module_version": "1.5.0",
            "_model_name": "DescriptionStyleModel",
            "_view_count": null,
            "_view_module": "@jupyter-widgets/base",
            "_view_module_version": "1.2.0",
            "_view_name": "StyleView",
            "description_width": ""
          }
        },
        "10d93e6e182a47a9b62b8ed641944adb": {
          "model_module": "@jupyter-widgets/controls",
          "model_name": "TextareaModel",
          "model_module_version": "1.5.0",
          "state": {
            "_dom_classes": [],
            "_model_module": "@jupyter-widgets/controls",
            "_model_module_version": "1.5.0",
            "_model_name": "TextareaModel",
            "_view_count": null,
            "_view_module": "@jupyter-widgets/controls",
            "_view_module_version": "1.5.0",
            "_view_name": "TextareaView",
            "continuous_update": true,
            "description": "Review:",
            "description_tooltip": null,
            "disabled": false,
            "layout": "IPY_MODEL_bc0dcb9e2b3246faa50b520dd3047c1c",
            "placeholder": "Type your review here",
            "rows": null,
            "style": "IPY_MODEL_cdd0c16940d94d30ab557d5330ecff32",
            "value": "its not good"
          }
        },
        "bc0dcb9e2b3246faa50b520dd3047c1c": {
          "model_module": "@jupyter-widgets/base",
          "model_name": "LayoutModel",
          "model_module_version": "1.2.0",
          "state": {
            "_model_module": "@jupyter-widgets/base",
            "_model_module_version": "1.2.0",
            "_model_name": "LayoutModel",
            "_view_count": null,
            "_view_module": "@jupyter-widgets/base",
            "_view_module_version": "1.2.0",
            "_view_name": "LayoutView",
            "align_content": null,
            "align_items": null,
            "align_self": null,
            "border": null,
            "bottom": null,
            "display": null,
            "flex": null,
            "flex_flow": null,
            "grid_area": null,
            "grid_auto_columns": null,
            "grid_auto_flow": null,
            "grid_auto_rows": null,
            "grid_column": null,
            "grid_gap": null,
            "grid_row": null,
            "grid_template_areas": null,
            "grid_template_columns": null,
            "grid_template_rows": null,
            "height": "150px",
            "justify_content": null,
            "justify_items": null,
            "left": null,
            "margin": null,
            "max_height": null,
            "max_width": null,
            "min_height": null,
            "min_width": null,
            "object_fit": null,
            "object_position": null,
            "order": null,
            "overflow": null,
            "overflow_x": null,
            "overflow_y": null,
            "padding": null,
            "right": null,
            "top": null,
            "visibility": null,
            "width": "80%"
          }
        },
        "cdd0c16940d94d30ab557d5330ecff32": {
          "model_module": "@jupyter-widgets/controls",
          "model_name": "DescriptionStyleModel",
          "model_module_version": "1.5.0",
          "state": {
            "_model_module": "@jupyter-widgets/controls",
            "_model_module_version": "1.5.0",
            "_model_name": "DescriptionStyleModel",
            "_view_count": null,
            "_view_module": "@jupyter-widgets/base",
            "_view_module_version": "1.2.0",
            "_view_name": "StyleView",
            "description_width": ""
          }
        },
        "a082c16c5b7a414bbd8065592c3204f6": {
          "model_module": "@jupyter-widgets/controls",
          "model_name": "ButtonModel",
          "model_module_version": "1.5.0",
          "state": {
            "_dom_classes": [],
            "_model_module": "@jupyter-widgets/controls",
            "_model_module_version": "1.5.0",
            "_model_name": "ButtonModel",
            "_view_count": null,
            "_view_module": "@jupyter-widgets/controls",
            "_view_module_version": "1.5.0",
            "_view_name": "ButtonView",
            "button_style": "",
            "description": "Predict",
            "disabled": false,
            "icon": "",
            "layout": "IPY_MODEL_41cc413d571b47ae97c1165cf7eaa938",
            "style": "IPY_MODEL_e35beed825984304bae4455fb20f9394",
            "tooltip": ""
          }
        },
        "41cc413d571b47ae97c1165cf7eaa938": {
          "model_module": "@jupyter-widgets/base",
          "model_name": "LayoutModel",
          "model_module_version": "1.2.0",
          "state": {
            "_model_module": "@jupyter-widgets/base",
            "_model_module_version": "1.2.0",
            "_model_name": "LayoutModel",
            "_view_count": null,
            "_view_module": "@jupyter-widgets/base",
            "_view_module_version": "1.2.0",
            "_view_name": "LayoutView",
            "align_content": null,
            "align_items": null,
            "align_self": null,
            "border": null,
            "bottom": null,
            "display": null,
            "flex": null,
            "flex_flow": null,
            "grid_area": null,
            "grid_auto_columns": null,
            "grid_auto_flow": null,
            "grid_auto_rows": null,
            "grid_column": null,
            "grid_gap": null,
            "grid_row": null,
            "grid_template_areas": null,
            "grid_template_columns": null,
            "grid_template_rows": null,
            "height": null,
            "justify_content": null,
            "justify_items": null,
            "left": null,
            "margin": null,
            "max_height": null,
            "max_width": null,
            "min_height": null,
            "min_width": null,
            "object_fit": null,
            "object_position": null,
            "order": null,
            "overflow": null,
            "overflow_x": null,
            "overflow_y": null,
            "padding": null,
            "right": null,
            "top": null,
            "visibility": null,
            "width": null
          }
        },
        "e35beed825984304bae4455fb20f9394": {
          "model_module": "@jupyter-widgets/controls",
          "model_name": "ButtonStyleModel",
          "model_module_version": "1.5.0",
          "state": {
            "_model_module": "@jupyter-widgets/controls",
            "_model_module_version": "1.5.0",
            "_model_name": "ButtonStyleModel",
            "_view_count": null,
            "_view_module": "@jupyter-widgets/base",
            "_view_module_version": "1.2.0",
            "_view_name": "StyleView",
            "button_color": null,
            "font_weight": ""
          }
        }
      }
    }
  },
  "nbformat": 4,
  "nbformat_minor": 0
}